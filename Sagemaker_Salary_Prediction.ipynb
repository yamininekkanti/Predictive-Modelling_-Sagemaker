{
 "cells": [
  {
   "cell_type": "markdown",
   "metadata": {},
   "source": [
    "\n",
    "## Sagemaker Classification\n",
    "\n",
    "Classification task on the housing dataset.<br>\n",
    "Using the features given, XGBoost decision tree model is trained to predict a given person's salary (the `WAGP` column)<br>\n",
    "\n",
    "--- \n",
    "\n",
    "#### Workfloe: \n",
    "\n",
    "- Perform EDA on the given dataset\n",
    "- Save preprocessed datasets to Amazon S3\n",
    "- Use the Amazon Sagemaker platform to train an XGBoost model\n",
    "- Evaluate the model using both a Batch-Transform job and a Real Time Predictor\n",
    "- Perform hyperparameter tuning on the XGBoost model\n",
    "\n",
    "\n",
    "---\n",
    "\n",
    "Pandas API documentation: https://pandas.pydata.org/pandas-docs/stable/reference/index.html\n",
    "\n",
    "Amazon Sagemaker API documentation: https://sagemaker.readthedocs.io/en/stable/\n",
    "\n",
    "Amazon Sagemaker Tutorials: https://docs.aws.amazon.com/sagemaker/latest/dg/gs.html \n",
    "\n",
    "---"
   ]
  },
  {
   "cell_type": "markdown",
   "metadata": {},
   "source": [
    "### 0.a) Import packages"
   ]
  },
  {
   "cell_type": "code",
   "execution_count": 7,
   "metadata": {},
   "outputs": [],
   "source": [
    "import boto3, os, sagemaker\n",
    "from sagemaker import get_execution_role"
   ]
  },
  {
   "cell_type": "markdown",
   "metadata": {},
   "source": [
    "### 0.b) Get Amazon IAM execution role and instance region"
   ]
  },
  {
   "cell_type": "code",
   "execution_count": 8,
   "metadata": {},
   "outputs": [
    {
     "name": "stdout",
     "output_type": "stream",
     "text": [
      "Success - the SageMaker instance is in the us-west-2 region\n"
     ]
    }
   ],
   "source": [
    "# Define IAM role- this will be necessary when defining your model\n",
    "iam_role = get_execution_role()\n",
    "\n",
    "# set the region of the instance and get a reference to the client\n",
    "my_region = boto3.Session().region_name\n",
    "\n",
    "# sagemaker session handle\n",
    "sm_session = sagemaker.session.Session(boto3.Session())\n",
    "\n",
    "print(\"Success - the SageMaker instance is in the \" + my_region + \" region\")"
   ]
  },
  {
   "cell_type": "markdown",
   "metadata": {},
   "source": [
    "### 1.a) Load CSV data from s3, and the dictionary pickle from local\n",
    "\n",
    "\n",
    "Upload `person_records_A.csv` and `person_records_B.csv` to S3, into a bucket and folder of your choice. \n",
    "Read the data files as Pandas dataframes using their S3 URLs. Read the pickle file by uploading it to the notebook container and using `pickle.load()`. "
   ]
  },
  {
   "cell_type": "markdown",
   "metadata": {},
   "source": [
    "### 1.a) Load CSV data from s3, and the dictionary pickle from local\n",
    "\n",
    "\n",
    "Upload `person_records_A.csv` and `person_records_B.csv` to S3, into a bucket and folder of your choice. \n",
    "Read the data files as Pandas dataframes using their S3 URLs. Read the pickle file by uploading it to the notebook container and using `pickle.load()`. "
   ]
  },
  {
   "cell_type": "code",
   "execution_count": 9,
   "metadata": {},
   "outputs": [],
   "source": [
    "import pandas as pd\n",
    "import pickle\n",
    "\n",
    "bucket =\"bigdathw4\"\n",
    "prefix=\"sagemaker\"\n",
    "\n",
    "data_fname= \"s3://bigdathw4/sagemaker/person_records_A.csv\".format(bucket,prefix)\n",
    "df_A = pd.read_csv(data_fname)\n",
    "\n",
    "\n",
    "data_fname1= \"s3://bigdathw4/sagemaker/person_records_B.csv\".format(bucket,prefix)\n",
    "df_B = pd.read_csv(data_fname1)\n",
    "pickle_in = open(\"person_ddict.pickle\",\"rb\")\n",
    "pr_ddict = pickle.load(pickle_in)"
   ]
  },
  {
   "cell_type": "markdown",
   "metadata": {},
   "source": [
    "### 1.b) Examine data schema and counts"
   ]
  },
  {
   "cell_type": "code",
   "execution_count": 10,
   "metadata": {},
   "outputs": [
    {
     "data": {
      "text/plain": [
       "pandas.core.frame.DataFrame"
      ]
     },
     "execution_count": 10,
     "metadata": {},
     "output_type": "execute_result"
    }
   ],
   "source": [
    "type(df_A )"
   ]
  },
  {
   "cell_type": "code",
   "execution_count": 11,
   "metadata": {},
   "outputs": [
    {
     "data": {
      "text/plain": [
       "1613672"
      ]
     },
     "execution_count": 11,
     "metadata": {},
     "output_type": "execute_result"
    }
   ],
   "source": [
    "len(df_A)"
   ]
  },
  {
   "cell_type": "code",
   "execution_count": 12,
   "metadata": {},
   "outputs": [
    {
     "data": {
      "text/plain": [
       "1519123"
      ]
     },
     "execution_count": 12,
     "metadata": {},
     "output_type": "execute_result"
    }
   ],
   "source": [
    "len(df_B)"
   ]
  },
  {
   "cell_type": "code",
   "execution_count": 13,
   "metadata": {},
   "outputs": [
    {
     "data": {
      "text/html": [
       "<div>\n",
       "<style scoped>\n",
       "    .dataframe tbody tr th:only-of-type {\n",
       "        vertical-align: middle;\n",
       "    }\n",
       "\n",
       "    .dataframe tbody tr th {\n",
       "        vertical-align: top;\n",
       "    }\n",
       "\n",
       "    .dataframe thead th {\n",
       "        text-align: right;\n",
       "    }\n",
       "</style>\n",
       "<table border=\"1\" class=\"dataframe\">\n",
       "  <thead>\n",
       "    <tr style=\"text-align: right;\">\n",
       "      <th></th>\n",
       "      <th>SERIALNO</th>\n",
       "      <th>SPORDER</th>\n",
       "      <th>PUMA</th>\n",
       "      <th>ST</th>\n",
       "      <th>ADJINC</th>\n",
       "      <th>AGEP</th>\n",
       "      <th>CIT</th>\n",
       "      <th>CITWP</th>\n",
       "      <th>COW</th>\n",
       "      <th>DDRS</th>\n",
       "      <th>...</th>\n",
       "      <th>RACWHT</th>\n",
       "      <th>RC</th>\n",
       "      <th>SFN</th>\n",
       "      <th>SFR</th>\n",
       "      <th>SOCP</th>\n",
       "      <th>VPS</th>\n",
       "      <th>WAOB</th>\n",
       "      <th>FHINS3C</th>\n",
       "      <th>FHINS4C</th>\n",
       "      <th>FHINS5C</th>\n",
       "    </tr>\n",
       "  </thead>\n",
       "  <tbody>\n",
       "    <tr>\n",
       "      <th>0</th>\n",
       "      <td>84</td>\n",
       "      <td>1</td>\n",
       "      <td>2600</td>\n",
       "      <td>1</td>\n",
       "      <td>1007549</td>\n",
       "      <td>19</td>\n",
       "      <td>1</td>\n",
       "      <td>NaN</td>\n",
       "      <td>NaN</td>\n",
       "      <td>2.0</td>\n",
       "      <td>...</td>\n",
       "      <td>1</td>\n",
       "      <td>0</td>\n",
       "      <td>NaN</td>\n",
       "      <td>NaN</td>\n",
       "      <td>NaN</td>\n",
       "      <td>NaN</td>\n",
       "      <td>1</td>\n",
       "      <td>NaN</td>\n",
       "      <td>NaN</td>\n",
       "      <td>NaN</td>\n",
       "    </tr>\n",
       "    <tr>\n",
       "      <th>1</th>\n",
       "      <td>154</td>\n",
       "      <td>1</td>\n",
       "      <td>2500</td>\n",
       "      <td>1</td>\n",
       "      <td>1007549</td>\n",
       "      <td>55</td>\n",
       "      <td>1</td>\n",
       "      <td>NaN</td>\n",
       "      <td>1.0</td>\n",
       "      <td>2.0</td>\n",
       "      <td>...</td>\n",
       "      <td>0</td>\n",
       "      <td>0</td>\n",
       "      <td>NaN</td>\n",
       "      <td>NaN</td>\n",
       "      <td>411011</td>\n",
       "      <td>NaN</td>\n",
       "      <td>1</td>\n",
       "      <td>NaN</td>\n",
       "      <td>NaN</td>\n",
       "      <td>NaN</td>\n",
       "    </tr>\n",
       "    <tr>\n",
       "      <th>2</th>\n",
       "      <td>154</td>\n",
       "      <td>2</td>\n",
       "      <td>2500</td>\n",
       "      <td>1</td>\n",
       "      <td>1007549</td>\n",
       "      <td>56</td>\n",
       "      <td>1</td>\n",
       "      <td>NaN</td>\n",
       "      <td>6.0</td>\n",
       "      <td>2.0</td>\n",
       "      <td>...</td>\n",
       "      <td>0</td>\n",
       "      <td>0</td>\n",
       "      <td>NaN</td>\n",
       "      <td>NaN</td>\n",
       "      <td>493050</td>\n",
       "      <td>NaN</td>\n",
       "      <td>1</td>\n",
       "      <td>NaN</td>\n",
       "      <td>NaN</td>\n",
       "      <td>NaN</td>\n",
       "    </tr>\n",
       "    <tr>\n",
       "      <th>3</th>\n",
       "      <td>154</td>\n",
       "      <td>3</td>\n",
       "      <td>2500</td>\n",
       "      <td>1</td>\n",
       "      <td>1007549</td>\n",
       "      <td>21</td>\n",
       "      <td>1</td>\n",
       "      <td>NaN</td>\n",
       "      <td>NaN</td>\n",
       "      <td>2.0</td>\n",
       "      <td>...</td>\n",
       "      <td>0</td>\n",
       "      <td>0</td>\n",
       "      <td>NaN</td>\n",
       "      <td>NaN</td>\n",
       "      <td>NaN</td>\n",
       "      <td>NaN</td>\n",
       "      <td>1</td>\n",
       "      <td>NaN</td>\n",
       "      <td>NaN</td>\n",
       "      <td>NaN</td>\n",
       "    </tr>\n",
       "    <tr>\n",
       "      <th>4</th>\n",
       "      <td>154</td>\n",
       "      <td>4</td>\n",
       "      <td>2500</td>\n",
       "      <td>1</td>\n",
       "      <td>1007549</td>\n",
       "      <td>21</td>\n",
       "      <td>1</td>\n",
       "      <td>NaN</td>\n",
       "      <td>NaN</td>\n",
       "      <td>1.0</td>\n",
       "      <td>...</td>\n",
       "      <td>0</td>\n",
       "      <td>0</td>\n",
       "      <td>NaN</td>\n",
       "      <td>NaN</td>\n",
       "      <td>NaN</td>\n",
       "      <td>NaN</td>\n",
       "      <td>1</td>\n",
       "      <td>NaN</td>\n",
       "      <td>NaN</td>\n",
       "      <td>NaN</td>\n",
       "    </tr>\n",
       "  </tbody>\n",
       "</table>\n",
       "<p>5 rows × 127 columns</p>\n",
       "</div>"
      ],
      "text/plain": [
       "   SERIALNO  SPORDER  PUMA  ST   ADJINC  AGEP  CIT  CITWP  COW  DDRS  ...  \\\n",
       "0        84        1  2600   1  1007549    19    1    NaN  NaN   2.0  ...   \n",
       "1       154        1  2500   1  1007549    55    1    NaN  1.0   2.0  ...   \n",
       "2       154        2  2500   1  1007549    56    1    NaN  6.0   2.0  ...   \n",
       "3       154        3  2500   1  1007549    21    1    NaN  NaN   2.0  ...   \n",
       "4       154        4  2500   1  1007549    21    1    NaN  NaN   1.0  ...   \n",
       "\n",
       "   RACWHT  RC  SFN  SFR    SOCP  VPS  WAOB  FHINS3C  FHINS4C  FHINS5C  \n",
       "0       1   0  NaN  NaN     NaN  NaN     1      NaN      NaN      NaN  \n",
       "1       0   0  NaN  NaN  411011  NaN     1      NaN      NaN      NaN  \n",
       "2       0   0  NaN  NaN  493050  NaN     1      NaN      NaN      NaN  \n",
       "3       0   0  NaN  NaN     NaN  NaN     1      NaN      NaN      NaN  \n",
       "4       0   0  NaN  NaN     NaN  NaN     1      NaN      NaN      NaN  \n",
       "\n",
       "[5 rows x 127 columns]"
      ]
     },
     "execution_count": 13,
     "metadata": {},
     "output_type": "execute_result"
    }
   ],
   "source": [
    "df_A.head()"
   ]
  },
  {
   "cell_type": "code",
   "execution_count": 14,
   "metadata": {},
   "outputs": [
    {
     "name": "stdout",
     "output_type": "stream",
     "text": [
      "Index(['SERIALNO', 'SPORDER', 'PUMA', 'ST', 'ADJINC', 'AGEP', 'CIT', 'CITWP',\n",
      "       'COW', 'DDRS',\n",
      "       ...\n",
      "       'RACWHT', 'RC', 'SFN', 'SFR', 'SOCP', 'VPS', 'WAOB', 'FHINS3C',\n",
      "       'FHINS4C', 'FHINS5C'],\n",
      "      dtype='object', length=127)\n"
     ]
    }
   ],
   "source": [
    "print(df_A.columns)"
   ]
  },
  {
   "cell_type": "code",
   "execution_count": 15,
   "metadata": {},
   "outputs": [
    {
     "data": {
      "text/html": [
       "<div>\n",
       "<style scoped>\n",
       "    .dataframe tbody tr th:only-of-type {\n",
       "        vertical-align: middle;\n",
       "    }\n",
       "\n",
       "    .dataframe tbody tr th {\n",
       "        vertical-align: top;\n",
       "    }\n",
       "\n",
       "    .dataframe thead th {\n",
       "        text-align: right;\n",
       "    }\n",
       "</style>\n",
       "<table border=\"1\" class=\"dataframe\">\n",
       "  <thead>\n",
       "    <tr style=\"text-align: right;\">\n",
       "      <th></th>\n",
       "      <th>SERIALNO</th>\n",
       "      <th>SPORDER</th>\n",
       "      <th>PUMA</th>\n",
       "      <th>ST</th>\n",
       "      <th>ADJINC</th>\n",
       "      <th>AGEP</th>\n",
       "      <th>CIT</th>\n",
       "      <th>CITWP</th>\n",
       "      <th>COW</th>\n",
       "      <th>DDRS</th>\n",
       "      <th>...</th>\n",
       "      <th>RACWHT</th>\n",
       "      <th>RC</th>\n",
       "      <th>SFN</th>\n",
       "      <th>SFR</th>\n",
       "      <th>SOCP</th>\n",
       "      <th>VPS</th>\n",
       "      <th>WAOB</th>\n",
       "      <th>FHINS3C</th>\n",
       "      <th>FHINS4C</th>\n",
       "      <th>FHINS5C</th>\n",
       "    </tr>\n",
       "  </thead>\n",
       "  <tbody>\n",
       "    <tr>\n",
       "      <th>0</th>\n",
       "      <td>76</td>\n",
       "      <td>1</td>\n",
       "      <td>1802</td>\n",
       "      <td>29</td>\n",
       "      <td>1007549</td>\n",
       "      <td>21</td>\n",
       "      <td>1</td>\n",
       "      <td>NaN</td>\n",
       "      <td>1.0</td>\n",
       "      <td>2.0</td>\n",
       "      <td>...</td>\n",
       "      <td>0</td>\n",
       "      <td>0</td>\n",
       "      <td>NaN</td>\n",
       "      <td>NaN</td>\n",
       "      <td>433031</td>\n",
       "      <td>NaN</td>\n",
       "      <td>1</td>\n",
       "      <td>NaN</td>\n",
       "      <td>NaN</td>\n",
       "      <td>NaN</td>\n",
       "    </tr>\n",
       "    <tr>\n",
       "      <th>1</th>\n",
       "      <td>76</td>\n",
       "      <td>2</td>\n",
       "      <td>1802</td>\n",
       "      <td>29</td>\n",
       "      <td>1007549</td>\n",
       "      <td>22</td>\n",
       "      <td>1</td>\n",
       "      <td>NaN</td>\n",
       "      <td>1.0</td>\n",
       "      <td>2.0</td>\n",
       "      <td>...</td>\n",
       "      <td>0</td>\n",
       "      <td>0</td>\n",
       "      <td>NaN</td>\n",
       "      <td>NaN</td>\n",
       "      <td>412010</td>\n",
       "      <td>NaN</td>\n",
       "      <td>1</td>\n",
       "      <td>NaN</td>\n",
       "      <td>NaN</td>\n",
       "      <td>NaN</td>\n",
       "    </tr>\n",
       "    <tr>\n",
       "      <th>2</th>\n",
       "      <td>80</td>\n",
       "      <td>1</td>\n",
       "      <td>901</td>\n",
       "      <td>29</td>\n",
       "      <td>1007549</td>\n",
       "      <td>21</td>\n",
       "      <td>1</td>\n",
       "      <td>NaN</td>\n",
       "      <td>NaN</td>\n",
       "      <td>2.0</td>\n",
       "      <td>...</td>\n",
       "      <td>1</td>\n",
       "      <td>0</td>\n",
       "      <td>NaN</td>\n",
       "      <td>NaN</td>\n",
       "      <td>NaN</td>\n",
       "      <td>NaN</td>\n",
       "      <td>1</td>\n",
       "      <td>NaN</td>\n",
       "      <td>NaN</td>\n",
       "      <td>NaN</td>\n",
       "    </tr>\n",
       "    <tr>\n",
       "      <th>3</th>\n",
       "      <td>86</td>\n",
       "      <td>1</td>\n",
       "      <td>1600</td>\n",
       "      <td>29</td>\n",
       "      <td>1007549</td>\n",
       "      <td>58</td>\n",
       "      <td>1</td>\n",
       "      <td>NaN</td>\n",
       "      <td>1.0</td>\n",
       "      <td>2.0</td>\n",
       "      <td>...</td>\n",
       "      <td>1</td>\n",
       "      <td>0</td>\n",
       "      <td>NaN</td>\n",
       "      <td>NaN</td>\n",
       "      <td>439061</td>\n",
       "      <td>6.0</td>\n",
       "      <td>1</td>\n",
       "      <td>0.0</td>\n",
       "      <td>NaN</td>\n",
       "      <td>NaN</td>\n",
       "    </tr>\n",
       "    <tr>\n",
       "      <th>4</th>\n",
       "      <td>86</td>\n",
       "      <td>2</td>\n",
       "      <td>1600</td>\n",
       "      <td>29</td>\n",
       "      <td>1007549</td>\n",
       "      <td>52</td>\n",
       "      <td>1</td>\n",
       "      <td>NaN</td>\n",
       "      <td>6.0</td>\n",
       "      <td>2.0</td>\n",
       "      <td>...</td>\n",
       "      <td>1</td>\n",
       "      <td>0</td>\n",
       "      <td>NaN</td>\n",
       "      <td>NaN</td>\n",
       "      <td>132011</td>\n",
       "      <td>NaN</td>\n",
       "      <td>1</td>\n",
       "      <td>NaN</td>\n",
       "      <td>NaN</td>\n",
       "      <td>NaN</td>\n",
       "    </tr>\n",
       "  </tbody>\n",
       "</table>\n",
       "<p>5 rows × 127 columns</p>\n",
       "</div>"
      ],
      "text/plain": [
       "   SERIALNO  SPORDER  PUMA  ST   ADJINC  AGEP  CIT  CITWP  COW  DDRS  ...  \\\n",
       "0        76        1  1802  29  1007549    21    1    NaN  1.0   2.0  ...   \n",
       "1        76        2  1802  29  1007549    22    1    NaN  1.0   2.0  ...   \n",
       "2        80        1   901  29  1007549    21    1    NaN  NaN   2.0  ...   \n",
       "3        86        1  1600  29  1007549    58    1    NaN  1.0   2.0  ...   \n",
       "4        86        2  1600  29  1007549    52    1    NaN  6.0   2.0  ...   \n",
       "\n",
       "   RACWHT  RC  SFN  SFR    SOCP  VPS  WAOB  FHINS3C  FHINS4C  FHINS5C  \n",
       "0       0   0  NaN  NaN  433031  NaN     1      NaN      NaN      NaN  \n",
       "1       0   0  NaN  NaN  412010  NaN     1      NaN      NaN      NaN  \n",
       "2       1   0  NaN  NaN     NaN  NaN     1      NaN      NaN      NaN  \n",
       "3       1   0  NaN  NaN  439061  6.0     1      0.0      NaN      NaN  \n",
       "4       1   0  NaN  NaN  132011  NaN     1      NaN      NaN      NaN  \n",
       "\n",
       "[5 rows x 127 columns]"
      ]
     },
     "execution_count": 15,
     "metadata": {},
     "output_type": "execute_result"
    }
   ],
   "source": [
    "df_B.head()"
   ]
  },
  {
   "cell_type": "code",
   "execution_count": 16,
   "metadata": {},
   "outputs": [
    {
     "name": "stdout",
     "output_type": "stream",
     "text": [
      "Index(['SERIALNO', 'SPORDER', 'PUMA', 'ST', 'ADJINC', 'AGEP', 'CIT', 'CITWP',\n",
      "       'COW', 'DDRS',\n",
      "       ...\n",
      "       'RACWHT', 'RC', 'SFN', 'SFR', 'SOCP', 'VPS', 'WAOB', 'FHINS3C',\n",
      "       'FHINS4C', 'FHINS5C'],\n",
      "      dtype='object', length=127)\n"
     ]
    }
   ],
   "source": [
    "print(df_B.columns)"
   ]
  },
  {
   "cell_type": "markdown",
   "metadata": {},
   "source": [
    "### 1.c) Select only necessary data columns\n",
    "\n"
   ]
  },
  {
   "cell_type": "code",
   "execution_count": 17,
   "metadata": {},
   "outputs": [
    {
     "name": "stdout",
     "output_type": "stream",
     "text": [
      "AGEP \t Age\n",
      "DDRS \t Self-care difficulty\n",
      "COW \t Class of worker\n",
      "WAGP \t Wages or salary income past 12 months\n",
      "JWMNP \t Travel time to work\n",
      "JWTR \t Means of transportation to work\n",
      "MAR \t Marital status\n",
      "PERNP \t Total person's earnings\n",
      "NWAV \t Available for work\n",
      "NWLA \t On layoff from work\n",
      "NWLK \t Looking for work\n",
      "NWAB \t Temporary absence from work\n",
      "SCHL \t Educational attainment\n",
      "WKW \t Weeks worked during past 12 months\n",
      "FOD1P \t Recoded field of degree - first entry\n",
      "FOD2P \t Recoded field of degree - second entry\n"
     ]
    }
   ],
   "source": [
    "colNames = ['AGEP', 'DDRS', 'COW', 'WAGP', 'JWMNP', 'JWTR', 'MAR', 'PERNP', 'NWAV', \n",
    "            'NWLA', 'NWLK', 'NWAB', 'SCHL', 'WKW', 'FOD1P', 'FOD2P']\n",
    "\n",
    "for c in colNames:\n",
    "    print(c,'\\t', pr_ddict[c]['description']) "
   ]
  },
  {
   "cell_type": "code",
   "execution_count": 18,
   "metadata": {},
   "outputs": [],
   "source": [
    "dfA= df_A[colNames]"
   ]
  },
  {
   "cell_type": "code",
   "execution_count": 19,
   "metadata": {},
   "outputs": [
    {
     "data": {
      "text/html": [
       "<div>\n",
       "<style scoped>\n",
       "    .dataframe tbody tr th:only-of-type {\n",
       "        vertical-align: middle;\n",
       "    }\n",
       "\n",
       "    .dataframe tbody tr th {\n",
       "        vertical-align: top;\n",
       "    }\n",
       "\n",
       "    .dataframe thead th {\n",
       "        text-align: right;\n",
       "    }\n",
       "</style>\n",
       "<table border=\"1\" class=\"dataframe\">\n",
       "  <thead>\n",
       "    <tr style=\"text-align: right;\">\n",
       "      <th></th>\n",
       "      <th>AGEP</th>\n",
       "      <th>DDRS</th>\n",
       "      <th>COW</th>\n",
       "      <th>WAGP</th>\n",
       "      <th>JWMNP</th>\n",
       "      <th>JWTR</th>\n",
       "      <th>MAR</th>\n",
       "      <th>PERNP</th>\n",
       "      <th>NWAV</th>\n",
       "      <th>NWLA</th>\n",
       "      <th>NWLK</th>\n",
       "      <th>NWAB</th>\n",
       "      <th>SCHL</th>\n",
       "      <th>WKW</th>\n",
       "      <th>FOD1P</th>\n",
       "      <th>FOD2P</th>\n",
       "    </tr>\n",
       "  </thead>\n",
       "  <tbody>\n",
       "    <tr>\n",
       "      <th>0</th>\n",
       "      <td>19</td>\n",
       "      <td>2.0</td>\n",
       "      <td>NaN</td>\n",
       "      <td>0.0</td>\n",
       "      <td>NaN</td>\n",
       "      <td>NaN</td>\n",
       "      <td>5</td>\n",
       "      <td>0.0</td>\n",
       "      <td>5.0</td>\n",
       "      <td>2.0</td>\n",
       "      <td>2.0</td>\n",
       "      <td>2.0</td>\n",
       "      <td>19.0</td>\n",
       "      <td>NaN</td>\n",
       "      <td>NaN</td>\n",
       "      <td>NaN</td>\n",
       "    </tr>\n",
       "    <tr>\n",
       "      <th>1</th>\n",
       "      <td>55</td>\n",
       "      <td>2.0</td>\n",
       "      <td>1.0</td>\n",
       "      <td>52000.0</td>\n",
       "      <td>30.0</td>\n",
       "      <td>1.0</td>\n",
       "      <td>1</td>\n",
       "      <td>52000.0</td>\n",
       "      <td>5.0</td>\n",
       "      <td>3.0</td>\n",
       "      <td>3.0</td>\n",
       "      <td>3.0</td>\n",
       "      <td>20.0</td>\n",
       "      <td>1.0</td>\n",
       "      <td>NaN</td>\n",
       "      <td>NaN</td>\n",
       "    </tr>\n",
       "    <tr>\n",
       "      <th>2</th>\n",
       "      <td>56</td>\n",
       "      <td>2.0</td>\n",
       "      <td>6.0</td>\n",
       "      <td>0.0</td>\n",
       "      <td>NaN</td>\n",
       "      <td>11.0</td>\n",
       "      <td>1</td>\n",
       "      <td>99000.0</td>\n",
       "      <td>5.0</td>\n",
       "      <td>3.0</td>\n",
       "      <td>3.0</td>\n",
       "      <td>3.0</td>\n",
       "      <td>16.0</td>\n",
       "      <td>1.0</td>\n",
       "      <td>NaN</td>\n",
       "      <td>NaN</td>\n",
       "    </tr>\n",
       "    <tr>\n",
       "      <th>3</th>\n",
       "      <td>21</td>\n",
       "      <td>2.0</td>\n",
       "      <td>NaN</td>\n",
       "      <td>0.0</td>\n",
       "      <td>NaN</td>\n",
       "      <td>NaN</td>\n",
       "      <td>5</td>\n",
       "      <td>0.0</td>\n",
       "      <td>5.0</td>\n",
       "      <td>2.0</td>\n",
       "      <td>2.0</td>\n",
       "      <td>2.0</td>\n",
       "      <td>19.0</td>\n",
       "      <td>NaN</td>\n",
       "      <td>NaN</td>\n",
       "      <td>NaN</td>\n",
       "    </tr>\n",
       "    <tr>\n",
       "      <th>4</th>\n",
       "      <td>21</td>\n",
       "      <td>1.0</td>\n",
       "      <td>NaN</td>\n",
       "      <td>0.0</td>\n",
       "      <td>NaN</td>\n",
       "      <td>NaN</td>\n",
       "      <td>5</td>\n",
       "      <td>0.0</td>\n",
       "      <td>5.0</td>\n",
       "      <td>2.0</td>\n",
       "      <td>2.0</td>\n",
       "      <td>2.0</td>\n",
       "      <td>19.0</td>\n",
       "      <td>NaN</td>\n",
       "      <td>NaN</td>\n",
       "      <td>NaN</td>\n",
       "    </tr>\n",
       "  </tbody>\n",
       "</table>\n",
       "</div>"
      ],
      "text/plain": [
       "   AGEP  DDRS  COW     WAGP  JWMNP  JWTR  MAR    PERNP  NWAV  NWLA  NWLK  \\\n",
       "0    19   2.0  NaN      0.0    NaN   NaN    5      0.0   5.0   2.0   2.0   \n",
       "1    55   2.0  1.0  52000.0   30.0   1.0    1  52000.0   5.0   3.0   3.0   \n",
       "2    56   2.0  6.0      0.0    NaN  11.0    1  99000.0   5.0   3.0   3.0   \n",
       "3    21   2.0  NaN      0.0    NaN   NaN    5      0.0   5.0   2.0   2.0   \n",
       "4    21   1.0  NaN      0.0    NaN   NaN    5      0.0   5.0   2.0   2.0   \n",
       "\n",
       "   NWAB  SCHL  WKW  FOD1P  FOD2P  \n",
       "0   2.0  19.0  NaN    NaN    NaN  \n",
       "1   3.0  20.0  1.0    NaN    NaN  \n",
       "2   3.0  16.0  1.0    NaN    NaN  \n",
       "3   2.0  19.0  NaN    NaN    NaN  \n",
       "4   2.0  19.0  NaN    NaN    NaN  "
      ]
     },
     "execution_count": 19,
     "metadata": {},
     "output_type": "execute_result"
    }
   ],
   "source": [
    "dfA.head()"
   ]
  },
  {
   "cell_type": "code",
   "execution_count": 20,
   "metadata": {},
   "outputs": [],
   "source": [
    "dfB= df_B[colNames]"
   ]
  },
  {
   "cell_type": "code",
   "execution_count": 21,
   "metadata": {},
   "outputs": [
    {
     "data": {
      "text/html": [
       "<div>\n",
       "<style scoped>\n",
       "    .dataframe tbody tr th:only-of-type {\n",
       "        vertical-align: middle;\n",
       "    }\n",
       "\n",
       "    .dataframe tbody tr th {\n",
       "        vertical-align: top;\n",
       "    }\n",
       "\n",
       "    .dataframe thead th {\n",
       "        text-align: right;\n",
       "    }\n",
       "</style>\n",
       "<table border=\"1\" class=\"dataframe\">\n",
       "  <thead>\n",
       "    <tr style=\"text-align: right;\">\n",
       "      <th></th>\n",
       "      <th>AGEP</th>\n",
       "      <th>DDRS</th>\n",
       "      <th>COW</th>\n",
       "      <th>WAGP</th>\n",
       "      <th>JWMNP</th>\n",
       "      <th>JWTR</th>\n",
       "      <th>MAR</th>\n",
       "      <th>PERNP</th>\n",
       "      <th>NWAV</th>\n",
       "      <th>NWLA</th>\n",
       "      <th>NWLK</th>\n",
       "      <th>NWAB</th>\n",
       "      <th>SCHL</th>\n",
       "      <th>WKW</th>\n",
       "      <th>FOD1P</th>\n",
       "      <th>FOD2P</th>\n",
       "    </tr>\n",
       "  </thead>\n",
       "  <tbody>\n",
       "    <tr>\n",
       "      <th>0</th>\n",
       "      <td>21</td>\n",
       "      <td>2.0</td>\n",
       "      <td>1.0</td>\n",
       "      <td>20400.0</td>\n",
       "      <td>20.0</td>\n",
       "      <td>1.0</td>\n",
       "      <td>5</td>\n",
       "      <td>20400.0</td>\n",
       "      <td>5.0</td>\n",
       "      <td>3.0</td>\n",
       "      <td>3.0</td>\n",
       "      <td>3.0</td>\n",
       "      <td>19.0</td>\n",
       "      <td>1.0</td>\n",
       "      <td>NaN</td>\n",
       "      <td>NaN</td>\n",
       "    </tr>\n",
       "    <tr>\n",
       "      <th>1</th>\n",
       "      <td>22</td>\n",
       "      <td>2.0</td>\n",
       "      <td>1.0</td>\n",
       "      <td>16700.0</td>\n",
       "      <td>20.0</td>\n",
       "      <td>1.0</td>\n",
       "      <td>5</td>\n",
       "      <td>16700.0</td>\n",
       "      <td>5.0</td>\n",
       "      <td>3.0</td>\n",
       "      <td>3.0</td>\n",
       "      <td>3.0</td>\n",
       "      <td>19.0</td>\n",
       "      <td>1.0</td>\n",
       "      <td>NaN</td>\n",
       "      <td>NaN</td>\n",
       "    </tr>\n",
       "    <tr>\n",
       "      <th>2</th>\n",
       "      <td>21</td>\n",
       "      <td>2.0</td>\n",
       "      <td>NaN</td>\n",
       "      <td>0.0</td>\n",
       "      <td>NaN</td>\n",
       "      <td>NaN</td>\n",
       "      <td>5</td>\n",
       "      <td>0.0</td>\n",
       "      <td>5.0</td>\n",
       "      <td>2.0</td>\n",
       "      <td>2.0</td>\n",
       "      <td>2.0</td>\n",
       "      <td>19.0</td>\n",
       "      <td>NaN</td>\n",
       "      <td>NaN</td>\n",
       "      <td>NaN</td>\n",
       "    </tr>\n",
       "    <tr>\n",
       "      <th>3</th>\n",
       "      <td>58</td>\n",
       "      <td>2.0</td>\n",
       "      <td>1.0</td>\n",
       "      <td>0.0</td>\n",
       "      <td>NaN</td>\n",
       "      <td>NaN</td>\n",
       "      <td>1</td>\n",
       "      <td>0.0</td>\n",
       "      <td>5.0</td>\n",
       "      <td>2.0</td>\n",
       "      <td>2.0</td>\n",
       "      <td>2.0</td>\n",
       "      <td>21.0</td>\n",
       "      <td>NaN</td>\n",
       "      <td>6203.0</td>\n",
       "      <td>NaN</td>\n",
       "    </tr>\n",
       "    <tr>\n",
       "      <th>4</th>\n",
       "      <td>52</td>\n",
       "      <td>2.0</td>\n",
       "      <td>6.0</td>\n",
       "      <td>0.0</td>\n",
       "      <td>20.0</td>\n",
       "      <td>1.0</td>\n",
       "      <td>1</td>\n",
       "      <td>60000.0</td>\n",
       "      <td>5.0</td>\n",
       "      <td>3.0</td>\n",
       "      <td>3.0</td>\n",
       "      <td>3.0</td>\n",
       "      <td>22.0</td>\n",
       "      <td>1.0</td>\n",
       "      <td>6203.0</td>\n",
       "      <td>NaN</td>\n",
       "    </tr>\n",
       "  </tbody>\n",
       "</table>\n",
       "</div>"
      ],
      "text/plain": [
       "   AGEP  DDRS  COW     WAGP  JWMNP  JWTR  MAR    PERNP  NWAV  NWLA  NWLK  \\\n",
       "0    21   2.0  1.0  20400.0   20.0   1.0    5  20400.0   5.0   3.0   3.0   \n",
       "1    22   2.0  1.0  16700.0   20.0   1.0    5  16700.0   5.0   3.0   3.0   \n",
       "2    21   2.0  NaN      0.0    NaN   NaN    5      0.0   5.0   2.0   2.0   \n",
       "3    58   2.0  1.0      0.0    NaN   NaN    1      0.0   5.0   2.0   2.0   \n",
       "4    52   2.0  6.0      0.0   20.0   1.0    1  60000.0   5.0   3.0   3.0   \n",
       "\n",
       "   NWAB  SCHL  WKW   FOD1P  FOD2P  \n",
       "0   3.0  19.0  1.0     NaN    NaN  \n",
       "1   3.0  19.0  1.0     NaN    NaN  \n",
       "2   2.0  19.0  NaN     NaN    NaN  \n",
       "3   2.0  21.0  NaN  6203.0    NaN  \n",
       "4   3.0  22.0  1.0  6203.0    NaN  "
      ]
     },
     "execution_count": 21,
     "metadata": {},
     "output_type": "execute_result"
    }
   ],
   "source": [
    "dfB.head()"
   ]
  },
  {
   "cell_type": "markdown",
   "metadata": {},
   "source": [
    "### 1.d) Merge dataframes and select columns\n",
    "\n",
    " "
   ]
  },
  {
   "cell_type": "code",
   "execution_count": 22,
   "metadata": {},
   "outputs": [],
   "source": [
    "import pandas\n",
    "colNames = ['AGEP', 'DDRS', 'COW', 'WAGP', 'JWMNP', 'JWTR', 'MAR', 'PERNP', 'NWAV', \n",
    "            'NWLA', 'NWLK', 'NWAB', 'SCHL', 'WKW', 'FOD1P', 'FOD2P']\n",
    "\n",
    "df =pandas.concat([dfA, dfB])\n"
   ]
  },
  {
   "cell_type": "code",
   "execution_count": 23,
   "metadata": {},
   "outputs": [
    {
     "data": {
      "text/html": [
       "<div>\n",
       "<style scoped>\n",
       "    .dataframe tbody tr th:only-of-type {\n",
       "        vertical-align: middle;\n",
       "    }\n",
       "\n",
       "    .dataframe tbody tr th {\n",
       "        vertical-align: top;\n",
       "    }\n",
       "\n",
       "    .dataframe thead th {\n",
       "        text-align: right;\n",
       "    }\n",
       "</style>\n",
       "<table border=\"1\" class=\"dataframe\">\n",
       "  <thead>\n",
       "    <tr style=\"text-align: right;\">\n",
       "      <th></th>\n",
       "      <th>AGEP</th>\n",
       "      <th>DDRS</th>\n",
       "      <th>COW</th>\n",
       "      <th>WAGP</th>\n",
       "      <th>JWMNP</th>\n",
       "      <th>JWTR</th>\n",
       "      <th>MAR</th>\n",
       "      <th>PERNP</th>\n",
       "      <th>NWAV</th>\n",
       "      <th>NWLA</th>\n",
       "      <th>NWLK</th>\n",
       "      <th>NWAB</th>\n",
       "      <th>SCHL</th>\n",
       "      <th>WKW</th>\n",
       "      <th>FOD1P</th>\n",
       "      <th>FOD2P</th>\n",
       "    </tr>\n",
       "  </thead>\n",
       "  <tbody>\n",
       "    <tr>\n",
       "      <th>0</th>\n",
       "      <td>19</td>\n",
       "      <td>2.0</td>\n",
       "      <td>NaN</td>\n",
       "      <td>0.0</td>\n",
       "      <td>NaN</td>\n",
       "      <td>NaN</td>\n",
       "      <td>5</td>\n",
       "      <td>0.0</td>\n",
       "      <td>5.0</td>\n",
       "      <td>2.0</td>\n",
       "      <td>2.0</td>\n",
       "      <td>2.0</td>\n",
       "      <td>19.0</td>\n",
       "      <td>NaN</td>\n",
       "      <td>NaN</td>\n",
       "      <td>NaN</td>\n",
       "    </tr>\n",
       "    <tr>\n",
       "      <th>1</th>\n",
       "      <td>55</td>\n",
       "      <td>2.0</td>\n",
       "      <td>1.0</td>\n",
       "      <td>52000.0</td>\n",
       "      <td>30.0</td>\n",
       "      <td>1.0</td>\n",
       "      <td>1</td>\n",
       "      <td>52000.0</td>\n",
       "      <td>5.0</td>\n",
       "      <td>3.0</td>\n",
       "      <td>3.0</td>\n",
       "      <td>3.0</td>\n",
       "      <td>20.0</td>\n",
       "      <td>1.0</td>\n",
       "      <td>NaN</td>\n",
       "      <td>NaN</td>\n",
       "    </tr>\n",
       "    <tr>\n",
       "      <th>2</th>\n",
       "      <td>56</td>\n",
       "      <td>2.0</td>\n",
       "      <td>6.0</td>\n",
       "      <td>0.0</td>\n",
       "      <td>NaN</td>\n",
       "      <td>11.0</td>\n",
       "      <td>1</td>\n",
       "      <td>99000.0</td>\n",
       "      <td>5.0</td>\n",
       "      <td>3.0</td>\n",
       "      <td>3.0</td>\n",
       "      <td>3.0</td>\n",
       "      <td>16.0</td>\n",
       "      <td>1.0</td>\n",
       "      <td>NaN</td>\n",
       "      <td>NaN</td>\n",
       "    </tr>\n",
       "    <tr>\n",
       "      <th>3</th>\n",
       "      <td>21</td>\n",
       "      <td>2.0</td>\n",
       "      <td>NaN</td>\n",
       "      <td>0.0</td>\n",
       "      <td>NaN</td>\n",
       "      <td>NaN</td>\n",
       "      <td>5</td>\n",
       "      <td>0.0</td>\n",
       "      <td>5.0</td>\n",
       "      <td>2.0</td>\n",
       "      <td>2.0</td>\n",
       "      <td>2.0</td>\n",
       "      <td>19.0</td>\n",
       "      <td>NaN</td>\n",
       "      <td>NaN</td>\n",
       "      <td>NaN</td>\n",
       "    </tr>\n",
       "    <tr>\n",
       "      <th>4</th>\n",
       "      <td>21</td>\n",
       "      <td>1.0</td>\n",
       "      <td>NaN</td>\n",
       "      <td>0.0</td>\n",
       "      <td>NaN</td>\n",
       "      <td>NaN</td>\n",
       "      <td>5</td>\n",
       "      <td>0.0</td>\n",
       "      <td>5.0</td>\n",
       "      <td>2.0</td>\n",
       "      <td>2.0</td>\n",
       "      <td>2.0</td>\n",
       "      <td>19.0</td>\n",
       "      <td>NaN</td>\n",
       "      <td>NaN</td>\n",
       "      <td>NaN</td>\n",
       "    </tr>\n",
       "  </tbody>\n",
       "</table>\n",
       "</div>"
      ],
      "text/plain": [
       "   AGEP  DDRS  COW     WAGP  JWMNP  JWTR  MAR    PERNP  NWAV  NWLA  NWLK  \\\n",
       "0    19   2.0  NaN      0.0    NaN   NaN    5      0.0   5.0   2.0   2.0   \n",
       "1    55   2.0  1.0  52000.0   30.0   1.0    1  52000.0   5.0   3.0   3.0   \n",
       "2    56   2.0  6.0      0.0    NaN  11.0    1  99000.0   5.0   3.0   3.0   \n",
       "3    21   2.0  NaN      0.0    NaN   NaN    5      0.0   5.0   2.0   2.0   \n",
       "4    21   1.0  NaN      0.0    NaN   NaN    5      0.0   5.0   2.0   2.0   \n",
       "\n",
       "   NWAB  SCHL  WKW  FOD1P  FOD2P  \n",
       "0   2.0  19.0  NaN    NaN    NaN  \n",
       "1   3.0  20.0  1.0    NaN    NaN  \n",
       "2   3.0  16.0  1.0    NaN    NaN  \n",
       "3   2.0  19.0  NaN    NaN    NaN  \n",
       "4   2.0  19.0  NaN    NaN    NaN  "
      ]
     },
     "execution_count": 23,
     "metadata": {},
     "output_type": "execute_result"
    }
   ],
   "source": [
    "df.head()"
   ]
  },
  {
   "cell_type": "markdown",
   "metadata": {},
   "source": [
    "### 1.e) Dataframe statistics\n",
    "\n"
   ]
  },
  {
   "cell_type": "code",
   "execution_count": 24,
   "metadata": {},
   "outputs": [
    {
     "data": {
      "text/html": [
       "<div>\n",
       "<style scoped>\n",
       "    .dataframe tbody tr th:only-of-type {\n",
       "        vertical-align: middle;\n",
       "    }\n",
       "\n",
       "    .dataframe tbody tr th {\n",
       "        vertical-align: top;\n",
       "    }\n",
       "\n",
       "    .dataframe thead th {\n",
       "        text-align: right;\n",
       "    }\n",
       "</style>\n",
       "<table border=\"1\" class=\"dataframe\">\n",
       "  <thead>\n",
       "    <tr style=\"text-align: right;\">\n",
       "      <th></th>\n",
       "      <th>AGEP</th>\n",
       "      <th>DDRS</th>\n",
       "      <th>COW</th>\n",
       "      <th>WAGP</th>\n",
       "      <th>JWMNP</th>\n",
       "      <th>JWTR</th>\n",
       "      <th>MAR</th>\n",
       "      <th>PERNP</th>\n",
       "      <th>NWAV</th>\n",
       "      <th>NWLA</th>\n",
       "      <th>NWLK</th>\n",
       "      <th>NWAB</th>\n",
       "      <th>SCHL</th>\n",
       "      <th>WKW</th>\n",
       "      <th>FOD1P</th>\n",
       "      <th>FOD2P</th>\n",
       "    </tr>\n",
       "  </thead>\n",
       "  <tbody>\n",
       "    <tr>\n",
       "      <th>AGEP</th>\n",
       "      <td>1.000000</td>\n",
       "      <td>-0.202793</td>\n",
       "      <td>0.131413</td>\n",
       "      <td>-0.034028</td>\n",
       "      <td>0.034882</td>\n",
       "      <td>-0.009769</td>\n",
       "      <td>-0.661755</td>\n",
       "      <td>-0.040249</td>\n",
       "      <td>0.054485</td>\n",
       "      <td>-0.184933</td>\n",
       "      <td>-0.120735</td>\n",
       "      <td>-0.175368</td>\n",
       "      <td>0.485370</td>\n",
       "      <td>-0.167503</td>\n",
       "      <td>-0.062601</td>\n",
       "      <td>-0.017541</td>\n",
       "    </tr>\n",
       "    <tr>\n",
       "      <th>DDRS</th>\n",
       "      <td>-0.202793</td>\n",
       "      <td>1.000000</td>\n",
       "      <td>-0.007077</td>\n",
       "      <td>0.100952</td>\n",
       "      <td>0.000159</td>\n",
       "      <td>-0.009330</td>\n",
       "      <td>0.030406</td>\n",
       "      <td>0.104053</td>\n",
       "      <td>-0.020772</td>\n",
       "      <td>0.079400</td>\n",
       "      <td>0.061936</td>\n",
       "      <td>0.082724</td>\n",
       "      <td>0.039044</td>\n",
       "      <td>-0.034643</td>\n",
       "      <td>0.011499</td>\n",
       "      <td>-0.003485</td>\n",
       "    </tr>\n",
       "    <tr>\n",
       "      <th>COW</th>\n",
       "      <td>0.131413</td>\n",
       "      <td>-0.007077</td>\n",
       "      <td>1.000000</td>\n",
       "      <td>-0.062779</td>\n",
       "      <td>-0.036895</td>\n",
       "      <td>0.154842</td>\n",
       "      <td>-0.080534</td>\n",
       "      <td>0.018897</td>\n",
       "      <td>-0.086982</td>\n",
       "      <td>-0.051587</td>\n",
       "      <td>-0.091308</td>\n",
       "      <td>-0.073266</td>\n",
       "      <td>0.061125</td>\n",
       "      <td>0.004581</td>\n",
       "      <td>-0.035054</td>\n",
       "      <td>-0.021340</td>\n",
       "    </tr>\n",
       "    <tr>\n",
       "      <th>WAGP</th>\n",
       "      <td>-0.034028</td>\n",
       "      <td>0.100952</td>\n",
       "      <td>-0.062779</td>\n",
       "      <td>1.000000</td>\n",
       "      <td>0.105639</td>\n",
       "      <td>-0.026631</td>\n",
       "      <td>-0.167817</td>\n",
       "      <td>0.950729</td>\n",
       "      <td>0.110071</td>\n",
       "      <td>0.334439</td>\n",
       "      <td>0.325355</td>\n",
       "      <td>0.323822</td>\n",
       "      <td>0.291967</td>\n",
       "      <td>-0.303953</td>\n",
       "      <td>0.041948</td>\n",
       "      <td>0.042199</td>\n",
       "    </tr>\n",
       "    <tr>\n",
       "      <th>JWMNP</th>\n",
       "      <td>0.034882</td>\n",
       "      <td>0.000159</td>\n",
       "      <td>-0.036895</td>\n",
       "      <td>0.105639</td>\n",
       "      <td>1.000000</td>\n",
       "      <td>-0.017564</td>\n",
       "      <td>-0.043957</td>\n",
       "      <td>0.099061</td>\n",
       "      <td>-0.008073</td>\n",
       "      <td>-0.013600</td>\n",
       "      <td>-0.011464</td>\n",
       "      <td>-0.012463</td>\n",
       "      <td>0.023012</td>\n",
       "      <td>-0.036384</td>\n",
       "      <td>0.031991</td>\n",
       "      <td>0.018451</td>\n",
       "    </tr>\n",
       "    <tr>\n",
       "      <th>JWTR</th>\n",
       "      <td>-0.009769</td>\n",
       "      <td>-0.009330</td>\n",
       "      <td>0.154842</td>\n",
       "      <td>-0.026631</td>\n",
       "      <td>-0.017564</td>\n",
       "      <td>1.000000</td>\n",
       "      <td>0.051476</td>\n",
       "      <td>0.000308</td>\n",
       "      <td>0.006666</td>\n",
       "      <td>0.029707</td>\n",
       "      <td>0.020912</td>\n",
       "      <td>0.028251</td>\n",
       "      <td>0.016093</td>\n",
       "      <td>0.066099</td>\n",
       "      <td>-0.005989</td>\n",
       "      <td>-0.009296</td>\n",
       "    </tr>\n",
       "    <tr>\n",
       "      <th>MAR</th>\n",
       "      <td>-0.661755</td>\n",
       "      <td>0.030406</td>\n",
       "      <td>-0.080534</td>\n",
       "      <td>-0.167817</td>\n",
       "      <td>-0.043957</td>\n",
       "      <td>0.051476</td>\n",
       "      <td>1.000000</td>\n",
       "      <td>-0.165836</td>\n",
       "      <td>-0.077744</td>\n",
       "      <td>-0.008850</td>\n",
       "      <td>-0.050454</td>\n",
       "      <td>-0.007295</td>\n",
       "      <td>-0.447047</td>\n",
       "      <td>0.210344</td>\n",
       "      <td>0.032104</td>\n",
       "      <td>0.013089</td>\n",
       "    </tr>\n",
       "    <tr>\n",
       "      <th>PERNP</th>\n",
       "      <td>-0.040249</td>\n",
       "      <td>0.104053</td>\n",
       "      <td>0.018897</td>\n",
       "      <td>0.950729</td>\n",
       "      <td>0.099061</td>\n",
       "      <td>0.000308</td>\n",
       "      <td>-0.165836</td>\n",
       "      <td>1.000000</td>\n",
       "      <td>0.111022</td>\n",
       "      <td>0.337121</td>\n",
       "      <td>0.327888</td>\n",
       "      <td>0.325328</td>\n",
       "      <td>0.285975</td>\n",
       "      <td>-0.302189</td>\n",
       "      <td>0.045455</td>\n",
       "      <td>0.047522</td>\n",
       "    </tr>\n",
       "    <tr>\n",
       "      <th>NWAV</th>\n",
       "      <td>0.054485</td>\n",
       "      <td>-0.020772</td>\n",
       "      <td>-0.086982</td>\n",
       "      <td>0.110071</td>\n",
       "      <td>-0.008073</td>\n",
       "      <td>0.006666</td>\n",
       "      <td>-0.077744</td>\n",
       "      <td>0.111022</td>\n",
       "      <td>1.000000</td>\n",
       "      <td>0.404554</td>\n",
       "      <td>0.576910</td>\n",
       "      <td>0.269897</td>\n",
       "      <td>0.038059</td>\n",
       "      <td>-0.271773</td>\n",
       "      <td>-0.005600</td>\n",
       "      <td>-0.007673</td>\n",
       "    </tr>\n",
       "    <tr>\n",
       "      <th>NWLA</th>\n",
       "      <td>-0.184933</td>\n",
       "      <td>0.079400</td>\n",
       "      <td>-0.051587</td>\n",
       "      <td>0.334439</td>\n",
       "      <td>-0.013600</td>\n",
       "      <td>0.029707</td>\n",
       "      <td>-0.008850</td>\n",
       "      <td>0.337121</td>\n",
       "      <td>0.404554</td>\n",
       "      <td>1.000000</td>\n",
       "      <td>0.860415</td>\n",
       "      <td>0.863896</td>\n",
       "      <td>0.151322</td>\n",
       "      <td>-0.365991</td>\n",
       "      <td>0.041860</td>\n",
       "      <td>0.022446</td>\n",
       "    </tr>\n",
       "    <tr>\n",
       "      <th>NWLK</th>\n",
       "      <td>-0.120735</td>\n",
       "      <td>0.061936</td>\n",
       "      <td>-0.091308</td>\n",
       "      <td>0.325355</td>\n",
       "      <td>-0.011464</td>\n",
       "      <td>0.020912</td>\n",
       "      <td>-0.050454</td>\n",
       "      <td>0.327888</td>\n",
       "      <td>0.576910</td>\n",
       "      <td>0.860415</td>\n",
       "      <td>1.000000</td>\n",
       "      <td>0.774826</td>\n",
       "      <td>0.142776</td>\n",
       "      <td>-0.389973</td>\n",
       "      <td>0.030850</td>\n",
       "      <td>0.012729</td>\n",
       "    </tr>\n",
       "    <tr>\n",
       "      <th>NWAB</th>\n",
       "      <td>-0.175368</td>\n",
       "      <td>0.082724</td>\n",
       "      <td>-0.073266</td>\n",
       "      <td>0.323822</td>\n",
       "      <td>-0.012463</td>\n",
       "      <td>0.028251</td>\n",
       "      <td>-0.007295</td>\n",
       "      <td>0.325328</td>\n",
       "      <td>0.269897</td>\n",
       "      <td>0.863896</td>\n",
       "      <td>0.774826</td>\n",
       "      <td>1.000000</td>\n",
       "      <td>0.142449</td>\n",
       "      <td>-0.321520</td>\n",
       "      <td>0.044887</td>\n",
       "      <td>0.027916</td>\n",
       "    </tr>\n",
       "    <tr>\n",
       "      <th>SCHL</th>\n",
       "      <td>0.485370</td>\n",
       "      <td>0.039044</td>\n",
       "      <td>0.061125</td>\n",
       "      <td>0.291967</td>\n",
       "      <td>0.023012</td>\n",
       "      <td>0.016093</td>\n",
       "      <td>-0.447047</td>\n",
       "      <td>0.285975</td>\n",
       "      <td>0.038059</td>\n",
       "      <td>0.151322</td>\n",
       "      <td>0.142776</td>\n",
       "      <td>0.142449</td>\n",
       "      <td>1.000000</td>\n",
       "      <td>-0.112359</td>\n",
       "      <td>-0.045790</td>\n",
       "      <td>-0.036192</td>\n",
       "    </tr>\n",
       "    <tr>\n",
       "      <th>WKW</th>\n",
       "      <td>-0.167503</td>\n",
       "      <td>-0.034643</td>\n",
       "      <td>0.004581</td>\n",
       "      <td>-0.303953</td>\n",
       "      <td>-0.036384</td>\n",
       "      <td>0.066099</td>\n",
       "      <td>0.210344</td>\n",
       "      <td>-0.302189</td>\n",
       "      <td>-0.271773</td>\n",
       "      <td>-0.365991</td>\n",
       "      <td>-0.389973</td>\n",
       "      <td>-0.321520</td>\n",
       "      <td>-0.112359</td>\n",
       "      <td>1.000000</td>\n",
       "      <td>-0.035283</td>\n",
       "      <td>-0.032540</td>\n",
       "    </tr>\n",
       "    <tr>\n",
       "      <th>FOD1P</th>\n",
       "      <td>-0.062601</td>\n",
       "      <td>0.011499</td>\n",
       "      <td>-0.035054</td>\n",
       "      <td>0.041948</td>\n",
       "      <td>0.031991</td>\n",
       "      <td>-0.005989</td>\n",
       "      <td>0.032104</td>\n",
       "      <td>0.045455</td>\n",
       "      <td>-0.005600</td>\n",
       "      <td>0.041860</td>\n",
       "      <td>0.030850</td>\n",
       "      <td>0.044887</td>\n",
       "      <td>-0.045790</td>\n",
       "      <td>-0.035283</td>\n",
       "      <td>1.000000</td>\n",
       "      <td>0.263320</td>\n",
       "    </tr>\n",
       "    <tr>\n",
       "      <th>FOD2P</th>\n",
       "      <td>-0.017541</td>\n",
       "      <td>-0.003485</td>\n",
       "      <td>-0.021340</td>\n",
       "      <td>0.042199</td>\n",
       "      <td>0.018451</td>\n",
       "      <td>-0.009296</td>\n",
       "      <td>0.013089</td>\n",
       "      <td>0.047522</td>\n",
       "      <td>-0.007673</td>\n",
       "      <td>0.022446</td>\n",
       "      <td>0.012729</td>\n",
       "      <td>0.027916</td>\n",
       "      <td>-0.036192</td>\n",
       "      <td>-0.032540</td>\n",
       "      <td>0.263320</td>\n",
       "      <td>1.000000</td>\n",
       "    </tr>\n",
       "  </tbody>\n",
       "</table>\n",
       "</div>"
      ],
      "text/plain": [
       "           AGEP      DDRS       COW      WAGP     JWMNP      JWTR       MAR  \\\n",
       "AGEP   1.000000 -0.202793  0.131413 -0.034028  0.034882 -0.009769 -0.661755   \n",
       "DDRS  -0.202793  1.000000 -0.007077  0.100952  0.000159 -0.009330  0.030406   \n",
       "COW    0.131413 -0.007077  1.000000 -0.062779 -0.036895  0.154842 -0.080534   \n",
       "WAGP  -0.034028  0.100952 -0.062779  1.000000  0.105639 -0.026631 -0.167817   \n",
       "JWMNP  0.034882  0.000159 -0.036895  0.105639  1.000000 -0.017564 -0.043957   \n",
       "JWTR  -0.009769 -0.009330  0.154842 -0.026631 -0.017564  1.000000  0.051476   \n",
       "MAR   -0.661755  0.030406 -0.080534 -0.167817 -0.043957  0.051476  1.000000   \n",
       "PERNP -0.040249  0.104053  0.018897  0.950729  0.099061  0.000308 -0.165836   \n",
       "NWAV   0.054485 -0.020772 -0.086982  0.110071 -0.008073  0.006666 -0.077744   \n",
       "NWLA  -0.184933  0.079400 -0.051587  0.334439 -0.013600  0.029707 -0.008850   \n",
       "NWLK  -0.120735  0.061936 -0.091308  0.325355 -0.011464  0.020912 -0.050454   \n",
       "NWAB  -0.175368  0.082724 -0.073266  0.323822 -0.012463  0.028251 -0.007295   \n",
       "SCHL   0.485370  0.039044  0.061125  0.291967  0.023012  0.016093 -0.447047   \n",
       "WKW   -0.167503 -0.034643  0.004581 -0.303953 -0.036384  0.066099  0.210344   \n",
       "FOD1P -0.062601  0.011499 -0.035054  0.041948  0.031991 -0.005989  0.032104   \n",
       "FOD2P -0.017541 -0.003485 -0.021340  0.042199  0.018451 -0.009296  0.013089   \n",
       "\n",
       "          PERNP      NWAV      NWLA      NWLK      NWAB      SCHL       WKW  \\\n",
       "AGEP  -0.040249  0.054485 -0.184933 -0.120735 -0.175368  0.485370 -0.167503   \n",
       "DDRS   0.104053 -0.020772  0.079400  0.061936  0.082724  0.039044 -0.034643   \n",
       "COW    0.018897 -0.086982 -0.051587 -0.091308 -0.073266  0.061125  0.004581   \n",
       "WAGP   0.950729  0.110071  0.334439  0.325355  0.323822  0.291967 -0.303953   \n",
       "JWMNP  0.099061 -0.008073 -0.013600 -0.011464 -0.012463  0.023012 -0.036384   \n",
       "JWTR   0.000308  0.006666  0.029707  0.020912  0.028251  0.016093  0.066099   \n",
       "MAR   -0.165836 -0.077744 -0.008850 -0.050454 -0.007295 -0.447047  0.210344   \n",
       "PERNP  1.000000  0.111022  0.337121  0.327888  0.325328  0.285975 -0.302189   \n",
       "NWAV   0.111022  1.000000  0.404554  0.576910  0.269897  0.038059 -0.271773   \n",
       "NWLA   0.337121  0.404554  1.000000  0.860415  0.863896  0.151322 -0.365991   \n",
       "NWLK   0.327888  0.576910  0.860415  1.000000  0.774826  0.142776 -0.389973   \n",
       "NWAB   0.325328  0.269897  0.863896  0.774826  1.000000  0.142449 -0.321520   \n",
       "SCHL   0.285975  0.038059  0.151322  0.142776  0.142449  1.000000 -0.112359   \n",
       "WKW   -0.302189 -0.271773 -0.365991 -0.389973 -0.321520 -0.112359  1.000000   \n",
       "FOD1P  0.045455 -0.005600  0.041860  0.030850  0.044887 -0.045790 -0.035283   \n",
       "FOD2P  0.047522 -0.007673  0.022446  0.012729  0.027916 -0.036192 -0.032540   \n",
       "\n",
       "          FOD1P     FOD2P  \n",
       "AGEP  -0.062601 -0.017541  \n",
       "DDRS   0.011499 -0.003485  \n",
       "COW   -0.035054 -0.021340  \n",
       "WAGP   0.041948  0.042199  \n",
       "JWMNP  0.031991  0.018451  \n",
       "JWTR  -0.005989 -0.009296  \n",
       "MAR    0.032104  0.013089  \n",
       "PERNP  0.045455  0.047522  \n",
       "NWAV  -0.005600 -0.007673  \n",
       "NWLA   0.041860  0.022446  \n",
       "NWLK   0.030850  0.012729  \n",
       "NWAB   0.044887  0.027916  \n",
       "SCHL  -0.045790 -0.036192  \n",
       "WKW   -0.035283 -0.032540  \n",
       "FOD1P  1.000000  0.263320  \n",
       "FOD2P  0.263320  1.000000  "
      ]
     },
     "execution_count": 24,
     "metadata": {},
     "output_type": "execute_result"
    }
   ],
   "source": [
    "df.corr()"
   ]
  },
  {
   "cell_type": "code",
   "execution_count": 25,
   "metadata": {},
   "outputs": [
    {
     "name": "stdout",
     "output_type": "stream",
     "text": [
      "Correlations of PERNP with WAGP\n"
     ]
    },
    {
     "data": {
      "text/html": [
       "<div>\n",
       "<style scoped>\n",
       "    .dataframe tbody tr th:only-of-type {\n",
       "        vertical-align: middle;\n",
       "    }\n",
       "\n",
       "    .dataframe tbody tr th {\n",
       "        vertical-align: top;\n",
       "    }\n",
       "\n",
       "    .dataframe thead th {\n",
       "        text-align: right;\n",
       "    }\n",
       "</style>\n",
       "<table border=\"1\" class=\"dataframe\">\n",
       "  <thead>\n",
       "    <tr style=\"text-align: right;\">\n",
       "      <th></th>\n",
       "      <th>PERNP</th>\n",
       "      <th>WAGP</th>\n",
       "    </tr>\n",
       "  </thead>\n",
       "  <tbody>\n",
       "    <tr>\n",
       "      <th>PERNP</th>\n",
       "      <td>1.000000</td>\n",
       "      <td>0.950729</td>\n",
       "    </tr>\n",
       "    <tr>\n",
       "      <th>WAGP</th>\n",
       "      <td>0.950729</td>\n",
       "      <td>1.000000</td>\n",
       "    </tr>\n",
       "  </tbody>\n",
       "</table>\n",
       "</div>"
      ],
      "text/plain": [
       "          PERNP      WAGP\n",
       "PERNP  1.000000  0.950729\n",
       "WAGP   0.950729  1.000000"
      ]
     },
     "execution_count": 25,
     "metadata": {},
     "output_type": "execute_result"
    }
   ],
   "source": [
    "print('Correlations of PERNP with WAGP')\n",
    "df[['PERNP','WAGP']].corr()\n"
   ]
  },
  {
   "cell_type": "code",
   "execution_count": 26,
   "metadata": {},
   "outputs": [
    {
     "name": "stdout",
     "output_type": "stream",
     "text": [
      "Correlations of NWLA with WAGP\n"
     ]
    },
    {
     "data": {
      "text/html": [
       "<div>\n",
       "<style scoped>\n",
       "    .dataframe tbody tr th:only-of-type {\n",
       "        vertical-align: middle;\n",
       "    }\n",
       "\n",
       "    .dataframe tbody tr th {\n",
       "        vertical-align: top;\n",
       "    }\n",
       "\n",
       "    .dataframe thead th {\n",
       "        text-align: right;\n",
       "    }\n",
       "</style>\n",
       "<table border=\"1\" class=\"dataframe\">\n",
       "  <thead>\n",
       "    <tr style=\"text-align: right;\">\n",
       "      <th></th>\n",
       "      <th>NWLA</th>\n",
       "      <th>WAGP</th>\n",
       "    </tr>\n",
       "  </thead>\n",
       "  <tbody>\n",
       "    <tr>\n",
       "      <th>NWLA</th>\n",
       "      <td>1.000000</td>\n",
       "      <td>0.334439</td>\n",
       "    </tr>\n",
       "    <tr>\n",
       "      <th>WAGP</th>\n",
       "      <td>0.334439</td>\n",
       "      <td>1.000000</td>\n",
       "    </tr>\n",
       "  </tbody>\n",
       "</table>\n",
       "</div>"
      ],
      "text/plain": [
       "          NWLA      WAGP\n",
       "NWLA  1.000000  0.334439\n",
       "WAGP  0.334439  1.000000"
      ]
     },
     "execution_count": 26,
     "metadata": {},
     "output_type": "execute_result"
    }
   ],
   "source": [
    "print('Correlations of NWLA with WAGP')\n",
    "df[['NWLA','WAGP']].corr()"
   ]
  },
  {
   "cell_type": "code",
   "execution_count": 27,
   "metadata": {},
   "outputs": [
    {
     "name": "stdout",
     "output_type": "stream",
     "text": [
      "Correlations of NWAB with WAGP\n"
     ]
    },
    {
     "data": {
      "text/html": [
       "<div>\n",
       "<style scoped>\n",
       "    .dataframe tbody tr th:only-of-type {\n",
       "        vertical-align: middle;\n",
       "    }\n",
       "\n",
       "    .dataframe tbody tr th {\n",
       "        vertical-align: top;\n",
       "    }\n",
       "\n",
       "    .dataframe thead th {\n",
       "        text-align: right;\n",
       "    }\n",
       "</style>\n",
       "<table border=\"1\" class=\"dataframe\">\n",
       "  <thead>\n",
       "    <tr style=\"text-align: right;\">\n",
       "      <th></th>\n",
       "      <th>NWAB</th>\n",
       "      <th>WAGP</th>\n",
       "    </tr>\n",
       "  </thead>\n",
       "  <tbody>\n",
       "    <tr>\n",
       "      <th>NWAB</th>\n",
       "      <td>1.000000</td>\n",
       "      <td>0.323822</td>\n",
       "    </tr>\n",
       "    <tr>\n",
       "      <th>WAGP</th>\n",
       "      <td>0.323822</td>\n",
       "      <td>1.000000</td>\n",
       "    </tr>\n",
       "  </tbody>\n",
       "</table>\n",
       "</div>"
      ],
      "text/plain": [
       "          NWAB      WAGP\n",
       "NWAB  1.000000  0.323822\n",
       "WAGP  0.323822  1.000000"
      ]
     },
     "execution_count": 27,
     "metadata": {},
     "output_type": "execute_result"
    }
   ],
   "source": [
    "print('Correlations of NWAB with WAGP')\n",
    "df[['NWAB','WAGP']].corr()"
   ]
  },
  {
   "cell_type": "code",
   "execution_count": 28,
   "metadata": {},
   "outputs": [
    {
     "name": "stdout",
     "output_type": "stream",
     "text": [
      "Correlations of WKW with WAGP\n"
     ]
    },
    {
     "data": {
      "text/html": [
       "<div>\n",
       "<style scoped>\n",
       "    .dataframe tbody tr th:only-of-type {\n",
       "        vertical-align: middle;\n",
       "    }\n",
       "\n",
       "    .dataframe tbody tr th {\n",
       "        vertical-align: top;\n",
       "    }\n",
       "\n",
       "    .dataframe thead th {\n",
       "        text-align: right;\n",
       "    }\n",
       "</style>\n",
       "<table border=\"1\" class=\"dataframe\">\n",
       "  <thead>\n",
       "    <tr style=\"text-align: right;\">\n",
       "      <th></th>\n",
       "      <th>WKW</th>\n",
       "      <th>WAGP</th>\n",
       "    </tr>\n",
       "  </thead>\n",
       "  <tbody>\n",
       "    <tr>\n",
       "      <th>WKW</th>\n",
       "      <td>1.000000</td>\n",
       "      <td>-0.303953</td>\n",
       "    </tr>\n",
       "    <tr>\n",
       "      <th>WAGP</th>\n",
       "      <td>-0.303953</td>\n",
       "      <td>1.000000</td>\n",
       "    </tr>\n",
       "  </tbody>\n",
       "</table>\n",
       "</div>"
      ],
      "text/plain": [
       "           WKW      WAGP\n",
       "WKW   1.000000 -0.303953\n",
       "WAGP -0.303953  1.000000"
      ]
     },
     "execution_count": 28,
     "metadata": {},
     "output_type": "execute_result"
    }
   ],
   "source": [
    "print('Correlations of WKW with WAGP')\n",
    "df[['WKW','WAGP']].corr()"
   ]
  },
  {
   "cell_type": "code",
   "execution_count": 29,
   "metadata": {},
   "outputs": [
    {
     "name": "stdout",
     "output_type": "stream",
     "text": [
      "Correlations of NWLK with WAGP\n"
     ]
    },
    {
     "data": {
      "text/html": [
       "<div>\n",
       "<style scoped>\n",
       "    .dataframe tbody tr th:only-of-type {\n",
       "        vertical-align: middle;\n",
       "    }\n",
       "\n",
       "    .dataframe tbody tr th {\n",
       "        vertical-align: top;\n",
       "    }\n",
       "\n",
       "    .dataframe thead th {\n",
       "        text-align: right;\n",
       "    }\n",
       "</style>\n",
       "<table border=\"1\" class=\"dataframe\">\n",
       "  <thead>\n",
       "    <tr style=\"text-align: right;\">\n",
       "      <th></th>\n",
       "      <th>NWLK</th>\n",
       "      <th>WAGP</th>\n",
       "    </tr>\n",
       "  </thead>\n",
       "  <tbody>\n",
       "    <tr>\n",
       "      <th>NWLK</th>\n",
       "      <td>1.000000</td>\n",
       "      <td>0.325355</td>\n",
       "    </tr>\n",
       "    <tr>\n",
       "      <th>WAGP</th>\n",
       "      <td>0.325355</td>\n",
       "      <td>1.000000</td>\n",
       "    </tr>\n",
       "  </tbody>\n",
       "</table>\n",
       "</div>"
      ],
      "text/plain": [
       "          NWLK      WAGP\n",
       "NWLK  1.000000  0.325355\n",
       "WAGP  0.325355  1.000000"
      ]
     },
     "execution_count": 29,
     "metadata": {},
     "output_type": "execute_result"
    }
   ],
   "source": [
    "print('Correlations of NWLK with WAGP')\n",
    "df[['NWLK','WAGP']].corr()"
   ]
  },
  {
   "cell_type": "code",
   "execution_count": 30,
   "metadata": {},
   "outputs": [
    {
     "name": "stdout",
     "output_type": "stream",
     "text": [
      "WAGP statistics\n"
     ]
    },
    {
     "data": {
      "text/html": [
       "<div>\n",
       "<style scoped>\n",
       "    .dataframe tbody tr th:only-of-type {\n",
       "        vertical-align: middle;\n",
       "    }\n",
       "\n",
       "    .dataframe tbody tr th {\n",
       "        vertical-align: top;\n",
       "    }\n",
       "\n",
       "    .dataframe thead th {\n",
       "        text-align: right;\n",
       "    }\n",
       "</style>\n",
       "<table border=\"1\" class=\"dataframe\">\n",
       "  <thead>\n",
       "    <tr style=\"text-align: right;\">\n",
       "      <th></th>\n",
       "      <th>WAGP</th>\n",
       "    </tr>\n",
       "  </thead>\n",
       "  <tbody>\n",
       "    <tr>\n",
       "      <th>count</th>\n",
       "      <td>2.582042e+06</td>\n",
       "    </tr>\n",
       "    <tr>\n",
       "      <th>mean</th>\n",
       "      <td>2.565256e+04</td>\n",
       "    </tr>\n",
       "    <tr>\n",
       "      <th>std</th>\n",
       "      <td>4.736001e+04</td>\n",
       "    </tr>\n",
       "    <tr>\n",
       "      <th>min</th>\n",
       "      <td>0.000000e+00</td>\n",
       "    </tr>\n",
       "    <tr>\n",
       "      <th>25%</th>\n",
       "      <td>0.000000e+00</td>\n",
       "    </tr>\n",
       "    <tr>\n",
       "      <th>50%</th>\n",
       "      <td>6.000000e+03</td>\n",
       "    </tr>\n",
       "    <tr>\n",
       "      <th>75%</th>\n",
       "      <td>3.600000e+04</td>\n",
       "    </tr>\n",
       "    <tr>\n",
       "      <th>max</th>\n",
       "      <td>6.600000e+05</td>\n",
       "    </tr>\n",
       "  </tbody>\n",
       "</table>\n",
       "</div>"
      ],
      "text/plain": [
       "               WAGP\n",
       "count  2.582042e+06\n",
       "mean   2.565256e+04\n",
       "std    4.736001e+04\n",
       "min    0.000000e+00\n",
       "25%    0.000000e+00\n",
       "50%    6.000000e+03\n",
       "75%    3.600000e+04\n",
       "max    6.600000e+05"
      ]
     },
     "execution_count": 30,
     "metadata": {},
     "output_type": "execute_result"
    }
   ],
   "source": [
    "print(\"WAGP statistics\")\n",
    "df[['WAGP']].describe()\n",
    "# YOUR CODE HERE"
   ]
  },
  {
   "cell_type": "markdown",
   "metadata": {},
   "source": [
    "## 2) Prepare data"
   ]
  },
  {
   "cell_type": "markdown",
   "metadata": {},
   "source": [
    "### 2.a) Outlier Removal\n",
    "\n",
    "Remove outlier rows based on values in the `WAGP` column. \n",
    "\n",
    "Based on the output in **1.e)**, it's clear that we need an **upper limit** to filter out significant outliers.\n",
    "\n"
   ]
  },
  {
   "cell_type": "code",
   "execution_count": 31,
   "metadata": {},
   "outputs": [
    {
     "data": {
      "text/html": [
       "<div>\n",
       "<style scoped>\n",
       "    .dataframe tbody tr th:only-of-type {\n",
       "        vertical-align: middle;\n",
       "    }\n",
       "\n",
       "    .dataframe tbody tr th {\n",
       "        vertical-align: top;\n",
       "    }\n",
       "\n",
       "    .dataframe thead th {\n",
       "        text-align: right;\n",
       "    }\n",
       "</style>\n",
       "<table border=\"1\" class=\"dataframe\">\n",
       "  <thead>\n",
       "    <tr style=\"text-align: right;\">\n",
       "      <th></th>\n",
       "      <th>AGEP</th>\n",
       "      <th>DDRS</th>\n",
       "      <th>COW</th>\n",
       "      <th>WAGP</th>\n",
       "      <th>JWMNP</th>\n",
       "      <th>JWTR</th>\n",
       "      <th>MAR</th>\n",
       "      <th>PERNP</th>\n",
       "      <th>NWAV</th>\n",
       "      <th>NWLA</th>\n",
       "      <th>NWLK</th>\n",
       "      <th>NWAB</th>\n",
       "      <th>SCHL</th>\n",
       "      <th>WKW</th>\n",
       "      <th>FOD1P</th>\n",
       "      <th>FOD2P</th>\n",
       "    </tr>\n",
       "  </thead>\n",
       "  <tbody>\n",
       "    <tr>\n",
       "      <th>0</th>\n",
       "      <td>19</td>\n",
       "      <td>2.0</td>\n",
       "      <td>NaN</td>\n",
       "      <td>0.0</td>\n",
       "      <td>NaN</td>\n",
       "      <td>NaN</td>\n",
       "      <td>5</td>\n",
       "      <td>0.0</td>\n",
       "      <td>5.0</td>\n",
       "      <td>2.0</td>\n",
       "      <td>2.0</td>\n",
       "      <td>2.0</td>\n",
       "      <td>19.0</td>\n",
       "      <td>NaN</td>\n",
       "      <td>NaN</td>\n",
       "      <td>NaN</td>\n",
       "    </tr>\n",
       "    <tr>\n",
       "      <th>1</th>\n",
       "      <td>55</td>\n",
       "      <td>2.0</td>\n",
       "      <td>1.0</td>\n",
       "      <td>52000.0</td>\n",
       "      <td>30.0</td>\n",
       "      <td>1.0</td>\n",
       "      <td>1</td>\n",
       "      <td>52000.0</td>\n",
       "      <td>5.0</td>\n",
       "      <td>3.0</td>\n",
       "      <td>3.0</td>\n",
       "      <td>3.0</td>\n",
       "      <td>20.0</td>\n",
       "      <td>1.0</td>\n",
       "      <td>NaN</td>\n",
       "      <td>NaN</td>\n",
       "    </tr>\n",
       "    <tr>\n",
       "      <th>2</th>\n",
       "      <td>56</td>\n",
       "      <td>2.0</td>\n",
       "      <td>6.0</td>\n",
       "      <td>0.0</td>\n",
       "      <td>NaN</td>\n",
       "      <td>11.0</td>\n",
       "      <td>1</td>\n",
       "      <td>99000.0</td>\n",
       "      <td>5.0</td>\n",
       "      <td>3.0</td>\n",
       "      <td>3.0</td>\n",
       "      <td>3.0</td>\n",
       "      <td>16.0</td>\n",
       "      <td>1.0</td>\n",
       "      <td>NaN</td>\n",
       "      <td>NaN</td>\n",
       "    </tr>\n",
       "    <tr>\n",
       "      <th>3</th>\n",
       "      <td>21</td>\n",
       "      <td>2.0</td>\n",
       "      <td>NaN</td>\n",
       "      <td>0.0</td>\n",
       "      <td>NaN</td>\n",
       "      <td>NaN</td>\n",
       "      <td>5</td>\n",
       "      <td>0.0</td>\n",
       "      <td>5.0</td>\n",
       "      <td>2.0</td>\n",
       "      <td>2.0</td>\n",
       "      <td>2.0</td>\n",
       "      <td>19.0</td>\n",
       "      <td>NaN</td>\n",
       "      <td>NaN</td>\n",
       "      <td>NaN</td>\n",
       "    </tr>\n",
       "    <tr>\n",
       "      <th>4</th>\n",
       "      <td>21</td>\n",
       "      <td>1.0</td>\n",
       "      <td>NaN</td>\n",
       "      <td>0.0</td>\n",
       "      <td>NaN</td>\n",
       "      <td>NaN</td>\n",
       "      <td>5</td>\n",
       "      <td>0.0</td>\n",
       "      <td>5.0</td>\n",
       "      <td>2.0</td>\n",
       "      <td>2.0</td>\n",
       "      <td>2.0</td>\n",
       "      <td>19.0</td>\n",
       "      <td>NaN</td>\n",
       "      <td>NaN</td>\n",
       "      <td>NaN</td>\n",
       "    </tr>\n",
       "  </tbody>\n",
       "</table>\n",
       "</div>"
      ],
      "text/plain": [
       "   AGEP  DDRS  COW     WAGP  JWMNP  JWTR  MAR    PERNP  NWAV  NWLA  NWLK  \\\n",
       "0    19   2.0  NaN      0.0    NaN   NaN    5      0.0   5.0   2.0   2.0   \n",
       "1    55   2.0  1.0  52000.0   30.0   1.0    1  52000.0   5.0   3.0   3.0   \n",
       "2    56   2.0  6.0      0.0    NaN  11.0    1  99000.0   5.0   3.0   3.0   \n",
       "3    21   2.0  NaN      0.0    NaN   NaN    5      0.0   5.0   2.0   2.0   \n",
       "4    21   1.0  NaN      0.0    NaN   NaN    5      0.0   5.0   2.0   2.0   \n",
       "\n",
       "   NWAB  SCHL  WKW  FOD1P  FOD2P  \n",
       "0   2.0  19.0  NaN    NaN    NaN  \n",
       "1   3.0  20.0  1.0    NaN    NaN  \n",
       "2   3.0  16.0  1.0    NaN    NaN  \n",
       "3   2.0  19.0  NaN    NaN    NaN  \n",
       "4   2.0  19.0  NaN    NaN    NaN  "
      ]
     },
     "execution_count": 31,
     "metadata": {},
     "output_type": "execute_result"
    }
   ],
   "source": [
    "# Select the number of standard deviations you want to set as the upper limit\n",
    "nStddevs = 5\n",
    "    \n",
    "# find the mean and standard deviations of the WAGP column. \n",
    "mean= df[['WAGP']].mean()\n",
    "std_dev= df[['WAGP']].std()\n",
    "\n",
    "# Calculate the value of your WAGP upper limit using the calculated mean and standard deviation\n",
    "upper_limt = mean+nStddevs*std_dev\n",
    "\n",
    "# Select rows using the WAGP upper limit you have just calculated\n",
    "df_u=df[df.WAGP <=upper_limt[0]]\n",
    "\n",
    "# print the first 5 rows of the filtered dataframe\n",
    "df_u.head()"
   ]
  },
  {
   "cell_type": "code",
   "execution_count": 32,
   "metadata": {},
   "outputs": [
    {
     "name": "stdout",
     "output_type": "stream",
     "text": [
      "upper limit above which you consider samples to be outliers\n"
     ]
    },
    {
     "data": {
      "text/plain": [
       "262452.61065615324"
      ]
     },
     "execution_count": 32,
     "metadata": {},
     "output_type": "execute_result"
    }
   ],
   "source": [
    "print(\"upper limit above which you consider samples to be outliers\")\n",
    "upper_limt[0]"
   ]
  },
  {
   "cell_type": "code",
   "execution_count": 33,
   "metadata": {},
   "outputs": [
    {
     "data": {
      "text/html": [
       "<div>\n",
       "<style scoped>\n",
       "    .dataframe tbody tr th:only-of-type {\n",
       "        vertical-align: middle;\n",
       "    }\n",
       "\n",
       "    .dataframe tbody tr th {\n",
       "        vertical-align: top;\n",
       "    }\n",
       "\n",
       "    .dataframe thead th {\n",
       "        text-align: right;\n",
       "    }\n",
       "</style>\n",
       "<table border=\"1\" class=\"dataframe\">\n",
       "  <thead>\n",
       "    <tr style=\"text-align: right;\">\n",
       "      <th></th>\n",
       "      <th>WAGP</th>\n",
       "    </tr>\n",
       "  </thead>\n",
       "  <tbody>\n",
       "    <tr>\n",
       "      <th>count</th>\n",
       "      <td>2.562699e+06</td>\n",
       "    </tr>\n",
       "    <tr>\n",
       "      <th>mean</th>\n",
       "      <td>2.284587e+04</td>\n",
       "    </tr>\n",
       "    <tr>\n",
       "      <th>std</th>\n",
       "      <td>3.414597e+04</td>\n",
       "    </tr>\n",
       "    <tr>\n",
       "      <th>min</th>\n",
       "      <td>0.000000e+00</td>\n",
       "    </tr>\n",
       "    <tr>\n",
       "      <th>25%</th>\n",
       "      <td>0.000000e+00</td>\n",
       "    </tr>\n",
       "    <tr>\n",
       "      <th>50%</th>\n",
       "      <td>5.200000e+03</td>\n",
       "    </tr>\n",
       "    <tr>\n",
       "      <th>75%</th>\n",
       "      <td>3.500000e+04</td>\n",
       "    </tr>\n",
       "    <tr>\n",
       "      <th>max</th>\n",
       "      <td>2.620000e+05</td>\n",
       "    </tr>\n",
       "  </tbody>\n",
       "</table>\n",
       "</div>"
      ],
      "text/plain": [
       "               WAGP\n",
       "count  2.562699e+06\n",
       "mean   2.284587e+04\n",
       "std    3.414597e+04\n",
       "min    0.000000e+00\n",
       "25%    0.000000e+00\n",
       "50%    5.200000e+03\n",
       "75%    3.500000e+04\n",
       "max    2.620000e+05"
      ]
     },
     "execution_count": 33,
     "metadata": {},
     "output_type": "execute_result"
    }
   ],
   "source": [
    "df_u[['WAGP']].describe()"
   ]
  },
  {
   "cell_type": "code",
   "execution_count": 34,
   "metadata": {},
   "outputs": [
    {
     "name": "stdout",
     "output_type": "stream",
     "text": [
      "no of rows before removal\n"
     ]
    },
    {
     "data": {
      "text/plain": [
       "3132795"
      ]
     },
     "execution_count": 34,
     "metadata": {},
     "output_type": "execute_result"
    }
   ],
   "source": [
    "print(\"no of rows before removal\")\n",
    "len(df)"
   ]
  },
  {
   "cell_type": "code",
   "execution_count": 35,
   "metadata": {},
   "outputs": [
    {
     "name": "stdout",
     "output_type": "stream",
     "text": [
      "no of rows after removal\n"
     ]
    },
    {
     "data": {
      "text/plain": [
       "2562699"
      ]
     },
     "execution_count": 35,
     "metadata": {},
     "output_type": "execute_result"
    }
   ],
   "source": [
    "print(\"no of rows after removal\")\n",
    "len(df_u)"
   ]
  },
  {
   "cell_type": "code",
   "execution_count": 36,
   "metadata": {},
   "outputs": [
    {
     "name": "stdout",
     "output_type": "stream",
     "text": [
      "no of outliers\n"
     ]
    },
    {
     "data": {
      "text/plain": [
       "570096"
      ]
     },
     "execution_count": 36,
     "metadata": {},
     "output_type": "execute_result"
    }
   ],
   "source": [
    "print(\"no of outliers\")\n",
    "len(df)-len(df_u)"
   ]
  },
  {
   "cell_type": "markdown",
   "metadata": {},
   "source": [
    "### 2.b) Feature Selection and Cleaning\n",
    "\n",
    "Populate `featureCols` with a subset of features from `colNames`.<br>\n",
    "Create a new DataFrame that contains only columns `featureCols` and `labelCol`.<br>\n",
    "Drop rows with any nulls in the selected columns.<br>\n"
   ]
  },
  {
   "cell_type": "code",
   "execution_count": 37,
   "metadata": {},
   "outputs": [],
   "source": [
    "featureCols = ['JWMNP', 'JWTR', 'MAR', 'PERNP', 'NWAV', \n",
    "                'NWLA', 'NWLK', 'NWAB', 'SCHL', 'WKW', 'FOD1P']\n",
    "labelCol = 'WAGP'\n",
    "\n",
    "feature_selection_df =df_u[['WAGP','JWMNP', 'JWTR', 'MAR', 'PERNP', 'NWAV', \n",
    "                'NWLA', 'NWLK', 'NWAB', 'SCHL', 'WKW', 'FOD1P']]\n",
    "df_cleaned = feature_selection_df.dropna()\n",
    "\n"
   ]
  },
  {
   "cell_type": "code",
   "execution_count": 38,
   "metadata": {},
   "outputs": [
    {
     "data": {
      "text/html": [
       "<div>\n",
       "<style scoped>\n",
       "    .dataframe tbody tr th:only-of-type {\n",
       "        vertical-align: middle;\n",
       "    }\n",
       "\n",
       "    .dataframe tbody tr th {\n",
       "        vertical-align: top;\n",
       "    }\n",
       "\n",
       "    .dataframe thead th {\n",
       "        text-align: right;\n",
       "    }\n",
       "</style>\n",
       "<table border=\"1\" class=\"dataframe\">\n",
       "  <thead>\n",
       "    <tr style=\"text-align: right;\">\n",
       "      <th></th>\n",
       "      <th>WAGP</th>\n",
       "      <th>JWMNP</th>\n",
       "      <th>JWTR</th>\n",
       "      <th>MAR</th>\n",
       "      <th>PERNP</th>\n",
       "      <th>NWAV</th>\n",
       "      <th>NWLA</th>\n",
       "      <th>NWLK</th>\n",
       "      <th>NWAB</th>\n",
       "      <th>SCHL</th>\n",
       "      <th>WKW</th>\n",
       "      <th>FOD1P</th>\n",
       "    </tr>\n",
       "  </thead>\n",
       "  <tbody>\n",
       "    <tr>\n",
       "      <th>5</th>\n",
       "      <td>39000.0</td>\n",
       "      <td>15.0</td>\n",
       "      <td>1.0</td>\n",
       "      <td>3</td>\n",
       "      <td>39000.0</td>\n",
       "      <td>5.0</td>\n",
       "      <td>3.0</td>\n",
       "      <td>3.0</td>\n",
       "      <td>3.0</td>\n",
       "      <td>21.0</td>\n",
       "      <td>1.0</td>\n",
       "      <td>6107.0</td>\n",
       "    </tr>\n",
       "    <tr>\n",
       "      <th>16</th>\n",
       "      <td>20000.0</td>\n",
       "      <td>5.0</td>\n",
       "      <td>1.0</td>\n",
       "      <td>1</td>\n",
       "      <td>20000.0</td>\n",
       "      <td>5.0</td>\n",
       "      <td>3.0</td>\n",
       "      <td>3.0</td>\n",
       "      <td>3.0</td>\n",
       "      <td>21.0</td>\n",
       "      <td>1.0</td>\n",
       "      <td>5500.0</td>\n",
       "    </tr>\n",
       "    <tr>\n",
       "      <th>36</th>\n",
       "      <td>100000.0</td>\n",
       "      <td>5.0</td>\n",
       "      <td>1.0</td>\n",
       "      <td>1</td>\n",
       "      <td>100000.0</td>\n",
       "      <td>5.0</td>\n",
       "      <td>3.0</td>\n",
       "      <td>2.0</td>\n",
       "      <td>2.0</td>\n",
       "      <td>21.0</td>\n",
       "      <td>1.0</td>\n",
       "      <td>6107.0</td>\n",
       "    </tr>\n",
       "    <tr>\n",
       "      <th>56</th>\n",
       "      <td>41000.0</td>\n",
       "      <td>20.0</td>\n",
       "      <td>1.0</td>\n",
       "      <td>1</td>\n",
       "      <td>41000.0</td>\n",
       "      <td>5.0</td>\n",
       "      <td>3.0</td>\n",
       "      <td>3.0</td>\n",
       "      <td>3.0</td>\n",
       "      <td>21.0</td>\n",
       "      <td>1.0</td>\n",
       "      <td>3700.0</td>\n",
       "    </tr>\n",
       "    <tr>\n",
       "      <th>60</th>\n",
       "      <td>25000.0</td>\n",
       "      <td>35.0</td>\n",
       "      <td>1.0</td>\n",
       "      <td>5</td>\n",
       "      <td>25000.0</td>\n",
       "      <td>5.0</td>\n",
       "      <td>3.0</td>\n",
       "      <td>3.0</td>\n",
       "      <td>3.0</td>\n",
       "      <td>21.0</td>\n",
       "      <td>1.0</td>\n",
       "      <td>1303.0</td>\n",
       "    </tr>\n",
       "  </tbody>\n",
       "</table>\n",
       "</div>"
      ],
      "text/plain": [
       "        WAGP  JWMNP  JWTR  MAR     PERNP  NWAV  NWLA  NWLK  NWAB  SCHL  WKW  \\\n",
       "5    39000.0   15.0   1.0    3   39000.0   5.0   3.0   3.0   3.0  21.0  1.0   \n",
       "16   20000.0    5.0   1.0    1   20000.0   5.0   3.0   3.0   3.0  21.0  1.0   \n",
       "36  100000.0    5.0   1.0    1  100000.0   5.0   3.0   2.0   2.0  21.0  1.0   \n",
       "56   41000.0   20.0   1.0    1   41000.0   5.0   3.0   3.0   3.0  21.0  1.0   \n",
       "60   25000.0   35.0   1.0    5   25000.0   5.0   3.0   3.0   3.0  21.0  1.0   \n",
       "\n",
       "     FOD1P  \n",
       "5   6107.0  \n",
       "16  5500.0  \n",
       "36  6107.0  \n",
       "56  3700.0  \n",
       "60  1303.0  "
      ]
     },
     "execution_count": 38,
     "metadata": {},
     "output_type": "execute_result"
    }
   ],
   "source": [
    "df_cleaned.head()"
   ]
  },
  {
   "cell_type": "code",
   "execution_count": 39,
   "metadata": {},
   "outputs": [
    {
     "data": {
      "text/plain": [
       "430272"
      ]
     },
     "execution_count": 39,
     "metadata": {},
     "output_type": "execute_result"
    }
   ],
   "source": [
    "len(df_cleaned)"
   ]
  },
  {
   "cell_type": "code",
   "execution_count": 40,
   "metadata": {},
   "outputs": [
    {
     "data": {
      "text/plain": [
       "11"
      ]
     },
     "execution_count": 40,
     "metadata": {},
     "output_type": "execute_result"
    }
   ],
   "source": [
    "# no of features\n",
    "len(featureCols)"
   ]
  },
  {
   "cell_type": "markdown",
   "metadata": {},
   "source": [
    "### 2.c) Discretize salary\n",
    "\n",
    "We want to convert the WAGP column, which contains continuous values, into a column with discrete labels so that we can use it as the label column for our classification problem. \n"
   ]
  },
  {
   "cell_type": "code",
   "execution_count": 41,
   "metadata": {},
   "outputs": [
    {
     "name": "stderr",
     "output_type": "stream",
     "text": [
      "/home/ec2-user/anaconda3/envs/python3/lib/python3.6/site-packages/ipykernel/__main__.py:5: SettingWithCopyWarning: \n",
      "A value is trying to be set on a copy of a slice from a DataFrame.\n",
      "Try using .loc[row_indexer,col_indexer] = value instead\n",
      "\n",
      "See the caveats in the documentation: http://pandas.pydata.org/pandas-docs/stable/indexing.html#indexing-view-versus-copy\n"
     ]
    }
   ],
   "source": [
    "import matplotlib.pyplot as plt\n",
    "\n",
    "# Make sure labels start from 0\n",
    "\n",
    "df_cleaned['WAGP_CAT'] = pd.qcut(df_cleaned['WAGP'],6,labels=False)"
   ]
  },
  {
   "cell_type": "code",
   "execution_count": 60,
   "metadata": {},
   "outputs": [
    {
     "data": {
      "text/html": [
       "<div>\n",
       "<style scoped>\n",
       "    .dataframe tbody tr th:only-of-type {\n",
       "        vertical-align: middle;\n",
       "    }\n",
       "\n",
       "    .dataframe tbody tr th {\n",
       "        vertical-align: top;\n",
       "    }\n",
       "\n",
       "    .dataframe thead th {\n",
       "        text-align: right;\n",
       "    }\n",
       "</style>\n",
       "<table border=\"1\" class=\"dataframe\">\n",
       "  <thead>\n",
       "    <tr style=\"text-align: right;\">\n",
       "      <th></th>\n",
       "      <th>WAGP</th>\n",
       "      <th>JWMNP</th>\n",
       "      <th>JWTR</th>\n",
       "      <th>MAR</th>\n",
       "      <th>PERNP</th>\n",
       "      <th>NWAV</th>\n",
       "      <th>NWLA</th>\n",
       "      <th>NWLK</th>\n",
       "      <th>NWAB</th>\n",
       "      <th>SCHL</th>\n",
       "      <th>WKW</th>\n",
       "      <th>FOD1P</th>\n",
       "      <th>WAGP_CAT</th>\n",
       "    </tr>\n",
       "  </thead>\n",
       "  <tbody>\n",
       "    <tr>\n",
       "      <th>5</th>\n",
       "      <td>39000.0</td>\n",
       "      <td>15.0</td>\n",
       "      <td>1.0</td>\n",
       "      <td>3</td>\n",
       "      <td>39000.0</td>\n",
       "      <td>5.0</td>\n",
       "      <td>3.0</td>\n",
       "      <td>3.0</td>\n",
       "      <td>3.0</td>\n",
       "      <td>21.0</td>\n",
       "      <td>1.0</td>\n",
       "      <td>6107.0</td>\n",
       "      <td>2</td>\n",
       "    </tr>\n",
       "    <tr>\n",
       "      <th>16</th>\n",
       "      <td>20000.0</td>\n",
       "      <td>5.0</td>\n",
       "      <td>1.0</td>\n",
       "      <td>1</td>\n",
       "      <td>20000.0</td>\n",
       "      <td>5.0</td>\n",
       "      <td>3.0</td>\n",
       "      <td>3.0</td>\n",
       "      <td>3.0</td>\n",
       "      <td>21.0</td>\n",
       "      <td>1.0</td>\n",
       "      <td>5500.0</td>\n",
       "      <td>1</td>\n",
       "    </tr>\n",
       "    <tr>\n",
       "      <th>36</th>\n",
       "      <td>100000.0</td>\n",
       "      <td>5.0</td>\n",
       "      <td>1.0</td>\n",
       "      <td>1</td>\n",
       "      <td>100000.0</td>\n",
       "      <td>5.0</td>\n",
       "      <td>3.0</td>\n",
       "      <td>2.0</td>\n",
       "      <td>2.0</td>\n",
       "      <td>21.0</td>\n",
       "      <td>1.0</td>\n",
       "      <td>6107.0</td>\n",
       "      <td>4</td>\n",
       "    </tr>\n",
       "    <tr>\n",
       "      <th>56</th>\n",
       "      <td>41000.0</td>\n",
       "      <td>20.0</td>\n",
       "      <td>1.0</td>\n",
       "      <td>1</td>\n",
       "      <td>41000.0</td>\n",
       "      <td>5.0</td>\n",
       "      <td>3.0</td>\n",
       "      <td>3.0</td>\n",
       "      <td>3.0</td>\n",
       "      <td>21.0</td>\n",
       "      <td>1.0</td>\n",
       "      <td>3700.0</td>\n",
       "      <td>2</td>\n",
       "    </tr>\n",
       "    <tr>\n",
       "      <th>60</th>\n",
       "      <td>25000.0</td>\n",
       "      <td>35.0</td>\n",
       "      <td>1.0</td>\n",
       "      <td>5</td>\n",
       "      <td>25000.0</td>\n",
       "      <td>5.0</td>\n",
       "      <td>3.0</td>\n",
       "      <td>3.0</td>\n",
       "      <td>3.0</td>\n",
       "      <td>21.0</td>\n",
       "      <td>1.0</td>\n",
       "      <td>1303.0</td>\n",
       "      <td>1</td>\n",
       "    </tr>\n",
       "  </tbody>\n",
       "</table>\n",
       "</div>"
      ],
      "text/plain": [
       "        WAGP  JWMNP  JWTR  MAR     PERNP  NWAV  NWLA  NWLK  NWAB  SCHL  WKW  \\\n",
       "5    39000.0   15.0   1.0    3   39000.0   5.0   3.0   3.0   3.0  21.0  1.0   \n",
       "16   20000.0    5.0   1.0    1   20000.0   5.0   3.0   3.0   3.0  21.0  1.0   \n",
       "36  100000.0    5.0   1.0    1  100000.0   5.0   3.0   2.0   2.0  21.0  1.0   \n",
       "56   41000.0   20.0   1.0    1   41000.0   5.0   3.0   3.0   3.0  21.0  1.0   \n",
       "60   25000.0   35.0   1.0    5   25000.0   5.0   3.0   3.0   3.0  21.0  1.0   \n",
       "\n",
       "     FOD1P  WAGP_CAT  \n",
       "5   6107.0         2  \n",
       "16  5500.0         1  \n",
       "36  6107.0         4  \n",
       "56  3700.0         2  \n",
       "60  1303.0         1  "
      ]
     },
     "execution_count": 60,
     "metadata": {},
     "output_type": "execute_result"
    }
   ],
   "source": [
    "df_cleaned.head()"
   ]
  },
  {
   "cell_type": "code",
   "execution_count": 42,
   "metadata": {},
   "outputs": [
    {
     "data": {
      "image/png": "[encoded data removed]",
      "text/plain": [
       "<Figure size 432x288 with 1 Axes>"
      ]
     },
     "metadata": {},
     "output_type": "display_data"
    }
   ],
   "source": [
    "n, bins, patches = plt.hist(x=df_cleaned['WAGP_CAT'], bins=6, color='#607c8e',\n",
    "                            alpha=0.7, rwidth=0.85)"
   ]
  },
  {
   "cell_type": "code",
   "execution_count": 43,
   "metadata": {},
   "outputs": [
    {
     "data": {
      "text/html": [
       "<div>\n",
       "<style scoped>\n",
       "    .dataframe tbody tr th:only-of-type {\n",
       "        vertical-align: middle;\n",
       "    }\n",
       "\n",
       "    .dataframe tbody tr th {\n",
       "        vertical-align: top;\n",
       "    }\n",
       "\n",
       "    .dataframe thead th {\n",
       "        text-align: right;\n",
       "    }\n",
       "</style>\n",
       "<table border=\"1\" class=\"dataframe\">\n",
       "  <thead>\n",
       "    <tr style=\"text-align: right;\">\n",
       "      <th></th>\n",
       "      <th>WAGP</th>\n",
       "      <th>JWMNP</th>\n",
       "      <th>JWTR</th>\n",
       "      <th>MAR</th>\n",
       "      <th>PERNP</th>\n",
       "      <th>NWAV</th>\n",
       "      <th>NWLA</th>\n",
       "      <th>NWLK</th>\n",
       "      <th>NWAB</th>\n",
       "      <th>SCHL</th>\n",
       "      <th>WKW</th>\n",
       "      <th>FOD1P</th>\n",
       "    </tr>\n",
       "    <tr>\n",
       "      <th>WAGP_CAT</th>\n",
       "      <th></th>\n",
       "      <th></th>\n",
       "      <th></th>\n",
       "      <th></th>\n",
       "      <th></th>\n",
       "      <th></th>\n",
       "      <th></th>\n",
       "      <th></th>\n",
       "      <th></th>\n",
       "      <th></th>\n",
       "      <th></th>\n",
       "      <th></th>\n",
       "    </tr>\n",
       "  </thead>\n",
       "  <tbody>\n",
       "    <tr>\n",
       "      <th>0</th>\n",
       "      <td>72607</td>\n",
       "      <td>72607</td>\n",
       "      <td>72607</td>\n",
       "      <td>72607</td>\n",
       "      <td>72607</td>\n",
       "      <td>72607</td>\n",
       "      <td>72607</td>\n",
       "      <td>72607</td>\n",
       "      <td>72607</td>\n",
       "      <td>72607</td>\n",
       "      <td>72607</td>\n",
       "      <td>72607</td>\n",
       "    </tr>\n",
       "    <tr>\n",
       "      <th>1</th>\n",
       "      <td>71576</td>\n",
       "      <td>71576</td>\n",
       "      <td>71576</td>\n",
       "      <td>71576</td>\n",
       "      <td>71576</td>\n",
       "      <td>71576</td>\n",
       "      <td>71576</td>\n",
       "      <td>71576</td>\n",
       "      <td>71576</td>\n",
       "      <td>71576</td>\n",
       "      <td>71576</td>\n",
       "      <td>71576</td>\n",
       "    </tr>\n",
       "    <tr>\n",
       "      <th>2</th>\n",
       "      <td>71643</td>\n",
       "      <td>71643</td>\n",
       "      <td>71643</td>\n",
       "      <td>71643</td>\n",
       "      <td>71643</td>\n",
       "      <td>71643</td>\n",
       "      <td>71643</td>\n",
       "      <td>71643</td>\n",
       "      <td>71643</td>\n",
       "      <td>71643</td>\n",
       "      <td>71643</td>\n",
       "      <td>71643</td>\n",
       "    </tr>\n",
       "    <tr>\n",
       "      <th>3</th>\n",
       "      <td>73212</td>\n",
       "      <td>73212</td>\n",
       "      <td>73212</td>\n",
       "      <td>73212</td>\n",
       "      <td>73212</td>\n",
       "      <td>73212</td>\n",
       "      <td>73212</td>\n",
       "      <td>73212</td>\n",
       "      <td>73212</td>\n",
       "      <td>73212</td>\n",
       "      <td>73212</td>\n",
       "      <td>73212</td>\n",
       "    </tr>\n",
       "    <tr>\n",
       "      <th>4</th>\n",
       "      <td>75287</td>\n",
       "      <td>75287</td>\n",
       "      <td>75287</td>\n",
       "      <td>75287</td>\n",
       "      <td>75287</td>\n",
       "      <td>75287</td>\n",
       "      <td>75287</td>\n",
       "      <td>75287</td>\n",
       "      <td>75287</td>\n",
       "      <td>75287</td>\n",
       "      <td>75287</td>\n",
       "      <td>75287</td>\n",
       "    </tr>\n",
       "    <tr>\n",
       "      <th>5</th>\n",
       "      <td>65947</td>\n",
       "      <td>65947</td>\n",
       "      <td>65947</td>\n",
       "      <td>65947</td>\n",
       "      <td>65947</td>\n",
       "      <td>65947</td>\n",
       "      <td>65947</td>\n",
       "      <td>65947</td>\n",
       "      <td>65947</td>\n",
       "      <td>65947</td>\n",
       "      <td>65947</td>\n",
       "      <td>65947</td>\n",
       "    </tr>\n",
       "  </tbody>\n",
       "</table>\n",
       "</div>"
      ],
      "text/plain": [
       "           WAGP  JWMNP   JWTR    MAR  PERNP   NWAV   NWLA   NWLK   NWAB  \\\n",
       "WAGP_CAT                                                                  \n",
       "0         72607  72607  72607  72607  72607  72607  72607  72607  72607   \n",
       "1         71576  71576  71576  71576  71576  71576  71576  71576  71576   \n",
       "2         71643  71643  71643  71643  71643  71643  71643  71643  71643   \n",
       "3         73212  73212  73212  73212  73212  73212  73212  73212  73212   \n",
       "4         75287  75287  75287  75287  75287  75287  75287  75287  75287   \n",
       "5         65947  65947  65947  65947  65947  65947  65947  65947  65947   \n",
       "\n",
       "           SCHL    WKW  FOD1P  \n",
       "WAGP_CAT                       \n",
       "0         72607  72607  72607  \n",
       "1         71576  71576  71576  \n",
       "2         71643  71643  71643  \n",
       "3         73212  73212  73212  \n",
       "4         75287  75287  75287  \n",
       "5         65947  65947  65947  "
      ]
     },
     "execution_count": 43,
     "metadata": {},
     "output_type": "execute_result"
    }
   ],
   "source": [
    "df_cleaned.groupby('WAGP_CAT').count()"
   ]
  },
  {
   "cell_type": "code",
   "execution_count": 44,
   "metadata": {},
   "outputs": [],
   "source": [
    "# Make sure label columns is the first column, and drop WAGP (will make problem trivial otherwise)\n",
    "# XGBoost expects labels to be in the first column\n",
    "\n",
    "# YOUR CODE HERE\n",
    "df1= df_cleaned.drop(['WAGP'], axis = 1) \n",
    "df_cleaned2=df1[['WAGP_CAT','JWMNP', 'JWTR', 'MAR', 'PERNP', 'NWAV', \n",
    "                'NWLA', 'NWLK', 'NWAB', 'SCHL', 'WKW', 'FOD1P']]"
   ]
  },
  {
   "cell_type": "code",
   "execution_count": 45,
   "metadata": {},
   "outputs": [
    {
     "data": {
      "text/html": [
       "<div>\n",
       "<style scoped>\n",
       "    .dataframe tbody tr th:only-of-type {\n",
       "        vertical-align: middle;\n",
       "    }\n",
       "\n",
       "    .dataframe tbody tr th {\n",
       "        vertical-align: top;\n",
       "    }\n",
       "\n",
       "    .dataframe thead th {\n",
       "        text-align: right;\n",
       "    }\n",
       "</style>\n",
       "<table border=\"1\" class=\"dataframe\">\n",
       "  <thead>\n",
       "    <tr style=\"text-align: right;\">\n",
       "      <th></th>\n",
       "      <th>WAGP_CAT</th>\n",
       "      <th>JWMNP</th>\n",
       "      <th>JWTR</th>\n",
       "      <th>MAR</th>\n",
       "      <th>PERNP</th>\n",
       "      <th>NWAV</th>\n",
       "      <th>NWLA</th>\n",
       "      <th>NWLK</th>\n",
       "      <th>NWAB</th>\n",
       "      <th>SCHL</th>\n",
       "      <th>WKW</th>\n",
       "      <th>FOD1P</th>\n",
       "    </tr>\n",
       "  </thead>\n",
       "  <tbody>\n",
       "    <tr>\n",
       "      <th>5</th>\n",
       "      <td>2</td>\n",
       "      <td>15.0</td>\n",
       "      <td>1.0</td>\n",
       "      <td>3</td>\n",
       "      <td>39000.0</td>\n",
       "      <td>5.0</td>\n",
       "      <td>3.0</td>\n",
       "      <td>3.0</td>\n",
       "      <td>3.0</td>\n",
       "      <td>21.0</td>\n",
       "      <td>1.0</td>\n",
       "      <td>6107.0</td>\n",
       "    </tr>\n",
       "    <tr>\n",
       "      <th>16</th>\n",
       "      <td>1</td>\n",
       "      <td>5.0</td>\n",
       "      <td>1.0</td>\n",
       "      <td>1</td>\n",
       "      <td>20000.0</td>\n",
       "      <td>5.0</td>\n",
       "      <td>3.0</td>\n",
       "      <td>3.0</td>\n",
       "      <td>3.0</td>\n",
       "      <td>21.0</td>\n",
       "      <td>1.0</td>\n",
       "      <td>5500.0</td>\n",
       "    </tr>\n",
       "    <tr>\n",
       "      <th>36</th>\n",
       "      <td>4</td>\n",
       "      <td>5.0</td>\n",
       "      <td>1.0</td>\n",
       "      <td>1</td>\n",
       "      <td>100000.0</td>\n",
       "      <td>5.0</td>\n",
       "      <td>3.0</td>\n",
       "      <td>2.0</td>\n",
       "      <td>2.0</td>\n",
       "      <td>21.0</td>\n",
       "      <td>1.0</td>\n",
       "      <td>6107.0</td>\n",
       "    </tr>\n",
       "    <tr>\n",
       "      <th>56</th>\n",
       "      <td>2</td>\n",
       "      <td>20.0</td>\n",
       "      <td>1.0</td>\n",
       "      <td>1</td>\n",
       "      <td>41000.0</td>\n",
       "      <td>5.0</td>\n",
       "      <td>3.0</td>\n",
       "      <td>3.0</td>\n",
       "      <td>3.0</td>\n",
       "      <td>21.0</td>\n",
       "      <td>1.0</td>\n",
       "      <td>3700.0</td>\n",
       "    </tr>\n",
       "    <tr>\n",
       "      <th>60</th>\n",
       "      <td>1</td>\n",
       "      <td>35.0</td>\n",
       "      <td>1.0</td>\n",
       "      <td>5</td>\n",
       "      <td>25000.0</td>\n",
       "      <td>5.0</td>\n",
       "      <td>3.0</td>\n",
       "      <td>3.0</td>\n",
       "      <td>3.0</td>\n",
       "      <td>21.0</td>\n",
       "      <td>1.0</td>\n",
       "      <td>1303.0</td>\n",
       "    </tr>\n",
       "  </tbody>\n",
       "</table>\n",
       "</div>"
      ],
      "text/plain": [
       "    WAGP_CAT  JWMNP  JWTR  MAR     PERNP  NWAV  NWLA  NWLK  NWAB  SCHL  WKW  \\\n",
       "5          2   15.0   1.0    3   39000.0   5.0   3.0   3.0   3.0  21.0  1.0   \n",
       "16         1    5.0   1.0    1   20000.0   5.0   3.0   3.0   3.0  21.0  1.0   \n",
       "36         4    5.0   1.0    1  100000.0   5.0   3.0   2.0   2.0  21.0  1.0   \n",
       "56         2   20.0   1.0    1   41000.0   5.0   3.0   3.0   3.0  21.0  1.0   \n",
       "60         1   35.0   1.0    5   25000.0   5.0   3.0   3.0   3.0  21.0  1.0   \n",
       "\n",
       "     FOD1P  \n",
       "5   6107.0  \n",
       "16  5500.0  \n",
       "36  6107.0  \n",
       "56  3700.0  \n",
       "60  1303.0  "
      ]
     },
     "execution_count": 45,
     "metadata": {},
     "output_type": "execute_result"
    }
   ],
   "source": [
    "df_cleaned2.head()"
   ]
  },
  {
   "cell_type": "markdown",
   "metadata": {},
   "source": [
    "### 2.d) Save preprocessed data to s3\n",
    "\n"
   ]
  },
  {
   "cell_type": "code",
   "execution_count": 46,
   "metadata": {},
   "outputs": [],
   "source": [
    "# shuffle data and train/val/test split, at 6:2:2\n",
    "\n",
    "import numpy as np\n",
    "\n",
    "x_train_df, x_val_df, x_test_df = \\\n",
    "    np.split(df_cleaned2.sample(frac=1, random_state=1729), \n",
    "             [int(0.6 * len(df_cleaned2)), int(0.8*len(df_cleaned2))]) \n",
    "\n",
    "x_train = x_train_df.values\n",
    "x_val = x_val_df.values\n",
    "x_test = x_test_df.values[:,1:]  # remove the label column"
   ]
  },
  {
   "cell_type": "code",
   "execution_count": 47,
   "metadata": {},
   "outputs": [
    {
     "name": "stdout",
     "output_type": "stream",
     "text": [
      "Split Test data will be uploaded to: s3://bigdathw4/sagemaker/test_data_split\n"
     ]
    }
   ],
   "source": [
    "# split test data into chunks separately\n",
    "import os \n",
    "if not os.path.exists(\"test_split\"):\n",
    "    os.makedirs(\"test_split\")\n",
    "row_lim = 10000\n",
    "num_chunks = int((x_test.shape[0] / row_lim) + 1)\n",
    "for i in range(num_chunks):\n",
    "    file = \"{}/test_data_split/data_{}.csv\".format(prefix, i)\n",
    "    location = \"s3://{}/{}\".format(bucket, file)\n",
    "    x_test_chunk = x_test[i*row_lim:(i+1)*row_lim]\n",
    "    np.savetxt(\"test_split/data_{}.csv\".format(i), x_test_chunk, delimiter=',')\n",
    "    boto3.Session().resource('s3').Bucket(bucket).Object(file).upload_file(\"test_split/data_{}.csv\".format(i))\n",
    "test_split_location = 's3://{}/{}/test_data_split'.format(bucket,prefix)\n",
    "print('Split Test data will be uploaded to: {}'.format(test_split_location))\n"
   ]
  },
  {
   "cell_type": "code",
   "execution_count": 48,
   "metadata": {},
   "outputs": [
    {
     "name": "stdout",
     "output_type": "stream",
     "text": [
      "train data will be uploaded to: s3://bigdathw4/sagemaker/train_data/data.csv\n",
      "val data will be uploaded to: s3://bigdathw4/sagemaker/val_data/data.csv\n",
      "test data will be uploaded to: s3://bigdathw4/sagemaker/test_data/data.csv\n"
     ]
    }
   ],
   "source": [
    "# save preprocessed data to s3 for XGBoost to access\n",
    "\n",
    "bucket = \"bigdathw4\"       # CHANGE ME: your own bucket\n",
    "prefix = \"sagemaker\"   # CHANGE ME: your own folder\n",
    "\n",
    "datasets = [('train', x_train), ('val', x_val), ('test', x_test)]  # Note: also using val as test\n",
    "data_locations = []\n",
    "for key, x in datasets:\n",
    "    file = \"{}/{}_data/data.csv\".format(prefix,key)\n",
    "    location = \"s3://{}/{}\".format(bucket, file); data_locations += [location]\n",
    "    print('{} data will be uploaded to: {}'.format(key, location))\n",
    "    np.savetxt(\"{}.csv\".format(key), x, delimiter=',')\n",
    "    boto3.Session().resource('s3').Bucket(bucket).Object(file).upload_file(\"{}.csv\".format(key))"
   ]
  },
  {
   "cell_type": "code",
   "execution_count": 49,
   "metadata": {},
   "outputs": [
    {
     "name": "stdout",
     "output_type": "stream",
     "text": [
      "training artifacts will be uploaded to: s3://bigdathw4/sagemaker/output\n"
     ]
    }
   ],
   "source": [
    "# set model output location\n",
    "\n",
    "output_location = \"s3://bigdathw4/sagemaker/output\".format(bucket,prefix)\n",
    "print('training artifacts will be uploaded to: {}'.format(output_location))"
   ]
  },
  {
   "cell_type": "markdown",
   "metadata": {},
   "source": [
    "## 3) Train a XGBoost model with static hyperparameters"
   ]
  },
  {
   "cell_type": "markdown",
   "metadata": {},
   "source": [
    "### 3.1) Train the model\n",
    "\n",
    "Call the Amazon Sagemaker API to spawn a training container for XGBoost.\n",
    "\n"
   ]
  },
  {
   "cell_type": "code",
   "execution_count": 50,
   "metadata": {},
   "outputs": [],
   "source": [
    "# create input channels to stream data\n",
    "# NOTE: in the case of using CSV files, all data is saved to the worker containers before training starts;\n",
    "#       only libsvm supports real data streaming\n",
    "\n",
    "train_channel = sagemaker.inputs.s3_input(data_locations[0], content_type='text/csv')\n",
    "val_channel = sagemaker.inputs.s3_input(data_locations[1], content_type='text/csv')\n",
    "\n",
    "data_channels = {'train': train_channel, 'validation': val_channel}"
   ]
  },
  {
   "cell_type": "code",
   "execution_count": 51,
   "metadata": {},
   "outputs": [],
   "source": [
    "# create the estimator instance\n",
    "\n",
    "from sagemaker.amazon.amazon_estimator import get_image_uri\n",
    "training_image = get_image_uri(boto3.Session().region_name, 'xgboost', '0.90-1')\n",
    "smclient = boto3.Session().client('sagemaker')\n",
    "\n",
    "xgb_model = sagemaker.estimator.Estimator(training_image,\n",
    "                                          iam_role, \n",
    "                                          train_instance_count=1, \n",
    "                                          train_instance_type='ml.m5.xlarge',\n",
    "                                          train_volume_size = 5,\n",
    "                                          output_path=output_location,\n",
    "                                          sagemaker_session=sagemaker.Session())"
   ]
  },
  {
   "cell_type": "code",
   "execution_count": 52,
   "metadata": {},
   "outputs": [],
   "source": [
    "# set estimator hyperparameters, these will be passed to the XGBoost container\n",
    "\n",
    "xgb_model.set_hyperparameters(max_depth = 5,\n",
    "                              eta = .2,\n",
    "                              gamma = 4,\n",
    "                              min_child_weight = 6,\n",
    "                              objective = \"multi:softmax\",\n",
    "                              num_class = 6,\n",
    "                              num_round = 10)"
   ]
  },
  {
   "cell_type": "code",
   "execution_count": 53,
   "metadata": {},
   "outputs": [
    {
     "name": "stdout",
     "output_type": "stream",
     "text": [
      "2020-03-11 02:56:05 Starting - Starting the training job...\n",
      "2020-03-11 02:56:05 Starting - Launching requested ML instances......\n",
      "2020-03-11 02:57:09 Starting - Preparing the instances for training...\n",
      "2020-03-11 02:58:00 Downloading - Downloading input data\n",
      "2020-03-11 02:58:00 Training - Downloading the training image...\n",
      "2020-03-11 02:58:24 Training - Training image download completed. Training in progress.\u001b[34mINFO:sagemaker-containers:Imported framework sagemaker_xgboost_container.training\u001b[0m\n",
      "\u001b[34mINFO:sagemaker-containers:Failed to parse hyperparameter objective value multi:softmax to Json.\u001b[0m\n",
      "\u001b[34mReturning the value itself\u001b[0m\n",
      "\u001b[34mINFO:sagemaker-containers:No GPUs detected (normal if no gpus installed)\u001b[0m\n",
      "\u001b[34mINFO:sagemaker_xgboost_container.training:Running XGBoost Sagemaker in algorithm mode\u001b[0m\n",
      "\u001b[34mINFO:root:Determined delimiter of CSV input is ','\u001b[0m\n",
      "\u001b[34mINFO:root:Determined delimiter of CSV input is ','\u001b[0m\n",
      "\u001b[34mINFO:root:Determined delimiter of CSV input is ','\u001b[0m\n",
      "\u001b[34m[02:58:25] 258163x11 matrix with 2839793 entries loaded from /opt/ml/input/data/train?format=csv&label_column=0&delimiter=,\u001b[0m\n",
      "\u001b[34mINFO:root:Determined delimiter of CSV input is ','\u001b[0m\n",
      "\u001b[34m[02:58:25] 86054x11 matrix with 946594 entries loaded from /opt/ml/input/data/validation?format=csv&label_column=0&delimiter=,\u001b[0m\n",
      "\u001b[34mINFO:root:Single node training.\u001b[0m\n",
      "\u001b[34mINFO:root:Train matrix has 258163 rows\u001b[0m\n",
      "\u001b[34mINFO:root:Validation matrix has 86054 rows\u001b[0m\n",
      "\u001b[34m[0]#011train-merror:0.041966#011validation-merror:0.041056\u001b[0m\n",
      "\u001b[34m[1]#011train-merror:0.041942#011validation-merror:0.040974\u001b[0m\n",
      "\u001b[34m[2]#011train-merror:0.041931#011validation-merror:0.040951\u001b[0m\n",
      "\u001b[34m[3]#011train-merror:0.041931#011validation-merror:0.040951\u001b[0m\n",
      "\u001b[34m[4]#011train-merror:0.041931#011validation-merror:0.040951\u001b[0m\n",
      "\u001b[34m[5]#011train-merror:0.041935#011validation-merror:0.040951\u001b[0m\n",
      "\u001b[34m[6]#011train-merror:0.041935#011validation-merror:0.040951\u001b[0m\n",
      "\u001b[34m[7]#011train-merror:0.04195#011validation-merror:0.040986\u001b[0m\n",
      "\u001b[34m[8]#011train-merror:0.041935#011validation-merror:0.040951\u001b[0m\n",
      "\u001b[34m[9]#011train-merror:0.041962#011validation-merror:0.040986\u001b[0m\n",
      "\n",
      "2020-03-11 02:58:43 Uploading - Uploading generated training model\n",
      "2020-03-11 02:58:43 Completed - Training job completed\n",
      "Training seconds: 59\n",
      "Billable seconds: 59\n"
     ]
    }
   ],
   "source": [
    "# fit using the data channels\n",
    "\n",
    "xgb_model.fit(data_channels)"
   ]
  },
  {
   "cell_type": "code",
   "execution_count": 54,
   "metadata": {},
   "outputs": [
    {
     "data": {
      "text/plain": [
       "'s3://bigdathw4/sagemaker/output/sagemaker-xgboost-2020-03-11-02-56-04-939/output/model.tar.gz'"
      ]
     },
     "execution_count": 54,
     "metadata": {},
     "output_type": "execute_result"
    }
   ],
   "source": [
    "# print the model's S3 URL\n",
    "xgb_model.model_data"
   ]
  },
  {
   "cell_type": "markdown",
   "metadata": {},
   "source": [
    "### 3.2) Getting a transformer for batch inferencing\n",
    "\n",
    "A Transformer spawns a Batch-Transform job using a trained model, and predicts labels for pre-uploaded data on S3. This is mainly for when we have a large amount of data to run inference on, and don't need to get results back in real time. \n",
    "\n"
   ]
  },
  {
   "cell_type": "code",
   "execution_count": 49,
   "metadata": {},
   "outputs": [
    {
     "name": "stdout",
     "output_type": "stream",
     "text": [
      "test outputs will be uploaded to: s3://bigdathw4/sagemaker/output/results\n"
     ]
    }
   ],
   "source": [
    "test_output_location = output_location+\"/results\"\n",
    "print('test outputs will be uploaded to: {}'.format(test_output_location))"
   ]
  },
  {
   "cell_type": "code",
   "execution_count": 50,
   "metadata": {},
   "outputs": [],
   "source": [
    "xgb_transformer = xgb_model.transformer(instance_count=1,\n",
    "                                        instance_type='ml.m5.xlarge',\n",
    "                                        output_path=test_output_location)"
   ]
  },
  {
   "cell_type": "code",
   "execution_count": 51,
   "metadata": {},
   "outputs": [],
   "source": [
    "xgb_transformer.transform(test_split_location,\n",
    "                          content_type=\"text/csv\")"
   ]
  },
  {
   "cell_type": "markdown",
   "metadata": {},
   "source": [
    "### 3.3) Deploy model for interactive inference\n",
    "\n",
    "Real Time Predictors are live services run on Amazon servers, which accepts streamed data (i.e. from live sensors or user input) and uses a trained model to make predictions in real time, hence the name. These predictors are backed by an entire stack of different services and networks, and thus takes some time to startup. \n",
    "\n",
    "Since the predictors work only with byte streams and not standard python objects, we have written a simple utility that takes care of data processing for you. "
   ]
  },
  {
   "cell_type": "code",
   "execution_count": 65,
   "metadata": {},
   "outputs": [],
   "source": [
    "def predict_file(input_path, predictor, limit=1000):\n",
    "    \"\"\" \n",
    "    Utility for piping a local test file to Sagemaker's Real Time Predictor interface \n",
    "    Returns a numpy array of integers as the predicted labels\n",
    "    \n",
    "    input_path: path to the input CSV file. This should be a local file, you can use \"test.csv\"\n",
    "    predictor: the predictor object we created for you\n",
    "    limit: the max number of data points to send to the predictor. We have set this to 1000 for you. \n",
    "    \"\"\"\n",
    "    res = []\n",
    "    with open(input_path, 'r') as f:\n",
    "        lines = f.readlines()\n",
    "    for i, l in enumerate(lines):\n",
    "        res += [predictor.predict(l)]\n",
    "        print(\"Progress: {}/{}\".format(i, len(lines)), end='\\r')\n",
    "        if limit is not None and i >= limit-1:\n",
    "            break\n",
    "    y_pred = np.array([float(e.decode('utf-8')) for e in res]).astype(int)\n",
    "    return y_pred"
   ]
  },
  {
   "cell_type": "code",
   "execution_count": 53,
   "metadata": {},
   "outputs": [
    {
     "name": "stderr",
     "output_type": "stream",
     "text": [
      "Using already existing model: sagemaker-xgboost-2020-03-10-17-24-18-396\n"
     ]
    },
    {
     "name": "stdout",
     "output_type": "stream",
     "text": [
      "-----------------!"
     ]
    }
   ],
   "source": [
    "# Deploy the real time predictor on Amazon servers. This will take several minutes. \n",
    "xgb_predictor = xgb_model.deploy(initial_instance_count=1,\n",
    "                                 content_type='text/csv',\n",
    "                                 instance_type='ml.t2.xlarge')"
   ]
  },
  {
   "cell_type": "code",
   "execution_count": 54,
   "metadata": {},
   "outputs": [
    {
     "name": "stdout",
     "output_type": "stream",
     "text": [
      "Progress: 999/86055\r"
     ]
    }
   ],
   "source": [
    "# run inference and get reports\n",
    "# NOTE: XGBoost's RealTimePredictor accepts only strings in CSV format. \n",
    "\n",
    "from sklearn.metrics import confusion_matrix, classification_report\n",
    "\n",
    "# Hint: Use the predict_file() method we have provided\n",
    "\n",
    "y_predict=predict_file(\"test.csv\", xgb_predictor, limit=1000)"
   ]
  },
  {
   "cell_type": "code",
   "execution_count": 67,
   "metadata": {},
   "outputs": [
    {
     "data": {
      "text/plain": [
       "'              precision    recall  f1-score   support\\n\\n         0.0       0.96      0.80      0.87       155\\n         1.0       0.93      0.95      0.94       170\\n         2.0       0.97      0.97      0.97       177\\n         3.0       0.93      0.99      0.96       166\\n         4.0       0.95      0.99      0.97       179\\n         5.0       0.96      0.99      0.97       153\\n\\n   micro avg       0.95      0.95      0.95      1000\\n   macro avg       0.95      0.95      0.95      1000\\nweighted avg       0.95      0.95      0.95      1000\\n'"
      ]
     },
     "execution_count": 67,
     "metadata": {},
     "output_type": "execute_result"
    }
   ],
   "source": [
    "\n",
    "y_test =x_test_df.values[:,:1]\n",
    "\n",
    "classification_report(y_test[:1000], y_predict)"
   ]
  },
  {
   "cell_type": "code",
   "execution_count": 56,
   "metadata": {},
   "outputs": [
    {
     "data": {
      "text/plain": [
       "array([[124,  12,   5,   5,   5,   4],\n",
       "       [  2, 162,   1,   5,   0,   0],\n",
       "       [  1,   1, 171,   2,   1,   1],\n",
       "       [  0,   0,   0, 164,   2,   0],\n",
       "       [  1,   0,   0,   0, 177,   1],\n",
       "       [  0,   0,   0,   0,   1, 152]])"
      ]
     },
     "execution_count": 56,
     "metadata": {},
     "output_type": "execute_result"
    }
   ],
   "source": [
    "confusion_matrix(y_test[:1000], y_predict)"
   ]
  },
  {
   "cell_type": "code",
   "execution_count": 57,
   "metadata": {},
   "outputs": [],
   "source": [
    "# delete the endpoint after inference to save cost; you may also delete the model.\n",
    "xgb_predictor.delete_endpoint()\n",
    "# xgb_predictor.delete_model()"
   ]
  },
  {
   "cell_type": "code",
   "execution_count": 55,
   "metadata": {
    "collapsed": true,
    "jupyter": {
     "outputs_hidden": true
    }
   },
   "outputs": [
    {
     "ename": "NameError",
     "evalue": "name 'xgb_predictor' is not defined",
     "output_type": "error",
     "traceback": [
      "\u001b[0;31m---------------------------------------------------------------------------\u001b[0m",
      "\u001b[0;31mNameError\u001b[0m                                 Traceback (most recent call last)",
      "\u001b[0;32m<ipython-input-55-328a0519d314>\u001b[0m in \u001b[0;36m<module>\u001b[0;34m()\u001b[0m\n\u001b[0;32m----> 1\u001b[0;31m \u001b[0mxgb_predictor\u001b[0m\u001b[0;34m.\u001b[0m\u001b[0mdelete_model\u001b[0m\u001b[0;34m(\u001b[0m\u001b[0;34m)\u001b[0m\u001b[0;34m\u001b[0m\u001b[0m\n\u001b[0m",
      "\u001b[0;31mNameError\u001b[0m: name 'xgb_predictor' is not defined"
     ]
    }
   ],
   "source": [
    "xgb_predictor.delete_model()"
   ]
  },
  {
   "cell_type": "markdown",
   "metadata": {},
   "source": [
    "## 4)Hyperparameter tuning \n",
    "\n",
    "The above static XGBoost hyperparameters are not optimal for this dataset. Use Sagemaker's Automatic Hyperparameter Tuning functionality to find the best set of hyperparameters and the resulting model. "
   ]
  },
  {
   "cell_type": "markdown",
   "metadata": {},
   "source": [
    "### 4.1) Start a Hyperparameter Tuning Job\n",
    "\n",
    "Use the sample tuning configurations to launch a hyperparameter tuning job. \n",
    "\n"
   ]
  },
  {
   "cell_type": "code",
   "execution_count": 58,
   "metadata": {},
   "outputs": [],
   "source": [
    "# You need to change the job name every time. \n",
    "# Amazon likely uses job logs to bill users, so jobs cannot be deleted or overwritten.\n",
    "tuning_job_name = \"MyTuningJob8\"   \n",
    "\n",
    "# tuning configs: parameter ranges\n",
    "tuning_job_config = {\n",
    "    \"ParameterRanges\": {\n",
    "      \"CategoricalParameterRanges\": [],\n",
    "      \"ContinuousParameterRanges\": [\n",
    "        {                    # Example, uncomment to also tune this hyperparam\n",
    "          \"MaxValue\": \"1\",\n",
    "          \"MinValue\": \"0\",\n",
    "          \"Name\": \"eta\"\n",
    "        },\n",
    "        {                    # Example, uncomment to also tune this hyperparam\n",
    "          \"MaxValue\": \"10\",\n",
    "          \"MinValue\": \"1\",\n",
    "          \"Name\": \"min_child_weight\"\n",
    "        }\n",
    "      \n",
    "      ],\n",
    "      \"IntegerParameterRanges\": [\n",
    "        {\n",
    "          \"MaxValue\": \"20\",\n",
    "          \"MinValue\": \"1\",\n",
    "          \"Name\": \"max_depth\"\n",
    "        }\n",
    "      ]\n",
    "    },\n",
    "    \"ResourceLimits\": {\n",
    "      \"MaxNumberOfTrainingJobs\": 10,    # Set the number of iterations here\n",
    "      \"MaxParallelTrainingJobs\": 2      # Set the max concurrent training jobs\n",
    "    },\n",
    "    \"Strategy\": \"Bayesian\",\n",
    "    \"HyperParameterTuningJobObjective\": {\n",
    "      \"MetricName\": \"validation:f1\",\n",
    "      \"Type\": \"Maximize\"\n",
    "    }\n",
    "  }\n",
    "\n",
    "# Training job definition: data sources, instance config, static hyperparams\n",
    "training_job_definition = {\n",
    "    \"AlgorithmSpecification\": {\n",
    "      \"TrainingImage\": training_image,\n",
    "      \"TrainingInputMode\": \"File\"\n",
    "    },\n",
    "    \"InputDataConfig\": [\n",
    "      {\n",
    "        \"ChannelName\": \"train\",\n",
    "        \"CompressionType\": \"None\",\n",
    "        \"ContentType\": \"csv\",\n",
    "        \"DataSource\": {\n",
    "          \"S3DataSource\": {\n",
    "            \"S3DataDistributionType\": \"FullyReplicated\",\n",
    "            \"S3DataType\": \"S3Prefix\",\n",
    "            \"S3Uri\": data_locations[0]\n",
    "          }\n",
    "        }\n",
    "      },\n",
    "      {\n",
    "        \"ChannelName\": \"validation\",\n",
    "        \"CompressionType\": \"None\",\n",
    "        \"ContentType\": \"csv\",\n",
    "        \"DataSource\": {\n",
    "          \"S3DataSource\": {\n",
    "            \"S3DataDistributionType\": \"FullyReplicated\",\n",
    "            \"S3DataType\": \"S3Prefix\",\n",
    "            \"S3Uri\": data_locations[1]\n",
    "          }\n",
    "        }\n",
    "      }\n",
    "    ],\n",
    "    \"OutputDataConfig\": {\n",
    "      \"S3OutputPath\": output_location\n",
    "    },\n",
    "    \"ResourceConfig\": {\n",
    "      \"InstanceCount\": 2,\n",
    "      \"InstanceType\": \"ml.c4.2xlarge\",\n",
    "      \"VolumeSizeInGB\": 10\n",
    "    },\n",
    "    \"RoleArn\": iam_role,\n",
    "    \"StaticHyperParameters\": {        # Set static hyperparameters here, these won't be tuned\n",
    "      \"gamma\": \"4\",\n",
    "      \"objective\": \"multi:softmax\",\n",
    "      \"num_class\": \"6\",\n",
    "      \"num_round\": \"10\"\n",
    "    },\n",
    "    \"StoppingCondition\": {\n",
    "      \"MaxRuntimeInSeconds\": 3600\n",
    "    }\n",
    "}"
   ]
  },
  {
   "cell_type": "code",
   "execution_count": 59,
   "metadata": {},
   "outputs": [
    {
     "data": {
      "text/plain": [
       "{'HyperParameterTuningJobArn': 'arn:aws:sagemaker:us-west-2:533479762620:hyper-parameter-tuning-job/mytuningjob8',\n",
       " 'ResponseMetadata': {'RequestId': 'ff332478-43ae-4cc9-8bda-2712b32dd810',\n",
       "  'HTTPStatusCode': 200,\n",
       "  'HTTPHeaders': {'x-amzn-requestid': 'ff332478-43ae-4cc9-8bda-2712b32dd810',\n",
       "   'content-type': 'application/x-amz-json-1.1',\n",
       "   'content-length': '113',\n",
       "   'date': 'Wed, 11 Mar 2020 03:00:43 GMT'},\n",
       "  'RetryAttempts': 0}}"
      ]
     },
     "execution_count": 59,
     "metadata": {},
     "output_type": "execute_result"
    }
   ],
   "source": [
    "# create hyperparam tuning job\n",
    "smclient.create_hyper_parameter_tuning_job(HyperParameterTuningJobName = tuning_job_name,\n",
    "                                           HyperParameterTuningJobConfig = tuning_job_config,\n",
    "                                           TrainingJobDefinition = training_job_definition)"
   ]
  },
  {
   "cell_type": "markdown",
   "metadata": {},
   "source": [
    "### 4.2) Rerun validation to examine model performance\n",
    "\n",
    "After the hyperparameter tuning job is complete, find the URL of the model file of your best performing model, by:\n",
    "1. Go to the Hyperparameter tuning jobs page on SageMaker console\n",
    "2. Select Best Training Job, and go to the job's details page\n",
    "3. Scroll to the bottom of the page, there is a URL to the saved model file (ending with `.tar.gz`). \n",
    "\n",
    "Copy this URL as `model_location_s3`, run below cells, and report model performance in the same way as **3.3)**"
   ]
  },
  {
   "cell_type": "code",
   "execution_count": 62,
   "metadata": {},
   "outputs": [
    {
     "name": "stdout",
     "output_type": "stream",
     "text": [
      "-------------------!"
     ]
    }
   ],
   "source": [
    "from sagemaker.model import Model\n",
    "\n",
    "model_location_s3 = \"s3://bigdathw4/sagemaker/output/MyTuningJob8-006-d07bf0d3/output/model.tar.gz\"  # S3 Path to your model artifact\n",
    "\n",
    "tuned_model = Model(model_location_s3, \n",
    "                    image=training_image,\n",
    "                    role=iam_role, \n",
    "                    sagemaker_session=sm_session\n",
    "                   )\n",
    "tuned_model.deploy(initial_instance_count=1,\n",
    "                   instance_type='ml.m4.xlarge',\n",
    "                  )"
   ]
  },
  {
   "cell_type": "code",
   "execution_count": 63,
   "metadata": {},
   "outputs": [],
   "source": [
    "from sagemaker.predictor import RealTimePredictor\n",
    "tuned_predictor = RealTimePredictor(tuned_model.endpoint_name,\n",
    "                                    sm_session,\n",
    "                                    content_type='text/csv')"
   ]
  },
  {
   "cell_type": "code",
   "execution_count": 68,
   "metadata": {},
   "outputs": [
    {
     "name": "stdout",
     "output_type": "stream",
     "text": [
      "Progress: 999/86055\r"
     ]
    },
    {
     "data": {
      "text/plain": [
       "'              precision    recall  f1-score   support\\n\\n         0.0       0.96      0.80      0.87       155\\n         1.0       0.93      0.95      0.94       170\\n         2.0       0.97      0.97      0.97       177\\n         3.0       0.93      0.99      0.96       166\\n         4.0       0.95      0.99      0.97       179\\n         5.0       0.96      0.99      0.97       153\\n\\n   micro avg       0.95      0.95      0.95      1000\\n   macro avg       0.95      0.95      0.95      1000\\nweighted avg       0.95      0.95      0.95      1000\\n'"
      ]
     },
     "execution_count": 68,
     "metadata": {},
     "output_type": "execute_result"
    }
   ],
   "source": [
    "# run inference and get reports\n",
    "# NOTE: XGBoost's RealTimePredictor accepts only strings in CSV format. \n",
    "\n",
    "from sklearn.metrics import confusion_matrix, classification_report\n",
    "\n",
    "# YOUR CODE HERE\n",
    "y_predict=predict_file(\"test.csv\", tuned_predictor , limit=1000)\n",
    "classification_report(y_test[:1000], y_predict)"
   ]
  },
  {
   "cell_type": "code",
   "execution_count": 69,
   "metadata": {},
   "outputs": [
    {
     "data": {
      "text/plain": [
       "array([[124,  12,   5,   5,   5,   4],\n",
       "       [  2, 162,   1,   5,   0,   0],\n",
       "       [  1,   1, 171,   2,   1,   1],\n",
       "       [  0,   0,   0, 164,   2,   0],\n",
       "       [  1,   0,   0,   0, 177,   1],\n",
       "       [  1,   0,   0,   0,   1, 151]])"
      ]
     },
     "execution_count": 69,
     "metadata": {},
     "output_type": "execute_result"
    }
   ],
   "source": [
    "confusion_matrix(y_test[:1000], y_predict)"
   ]
  },
  {
   "cell_type": "code",
   "execution_count": 70,
   "metadata": {},
   "outputs": [],
   "source": [
    "# delete model and endpoint after inference to save cost\n",
    "\n",
    "tuned_predictor.delete_endpoint()\n",
    "tuned_predictor.delete_model()"
   ]
  },
  {
   "cell_type": "code",
   "execution_count": null,
   "metadata": {},
   "outputs": [],
   "source": []
  }
 ],
 "metadata": {
  "kernelspec": {
   "display_name": "Python 3",
   "language": "python",
   "name": "python3"
  },
  "language_info": {
   "codemirror_mode": {
    "name": "ipython",
    "version": 3
   },
   "file_extension": ".py",
   "mimetype": "text/x-python",
   "name": "python",
   "nbconvert_exporter": "python",
   "pygments_lexer": "ipython3",
   "version": "3.6.9"
  }
 },
 "nbformat": 4,
 "nbformat_minor": 4
}
